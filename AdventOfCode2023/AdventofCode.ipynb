{
 "cells": [
  {
   "cell_type": "markdown",
   "metadata": {},
   "source": [
    "# DAY 1"
   ]
  },
  {
   "cell_type": "code",
   "execution_count": 11,
   "metadata": {},
   "outputs": [],
   "source": [
    "input_list = open(\"./puzzle_inputs/day1.txt\").read().split(\"\\n\")"
   ]
  },
  {
   "cell_type": "code",
   "execution_count": 12,
   "metadata": {},
   "outputs": [
    {
     "name": "stdout",
     "output_type": "stream",
     "text": [
      "55712\n"
     ]
    }
   ],
   "source": [
    "# Only for digits:\n",
    "sum = 0\n",
    "\n",
    "for row in input_list:\n",
    "    row_digits = [char for char in row if char.isdigit()]\n",
    "    calibration_value = int(row_digits[0]) * 10 + int(row_digits[-1])\n",
    "    sum += calibration_value\n",
    "print(sum)"
   ]
  },
  {
   "cell_type": "code",
   "execution_count": 14,
   "metadata": {},
   "outputs": [
    {
     "name": "stdout",
     "output_type": "stream",
     "text": [
      "55413\n"
     ]
    }
   ],
   "source": [
    "# Now with the numners spelled out:\n",
    "import re\n",
    "\n",
    "words2digits = {\n",
    "    \"one\": \"1\",\n",
    "    \"two\": \"2\",\n",
    "    \"three\": \"3\",\n",
    "    \"four\": \"4\",\n",
    "    \"five\": \"5\",\n",
    "    \"six\": \"6\",\n",
    "    \"seven\": \"7\",\n",
    "    \"eight\": \"8\",\n",
    "    \"nine\": \"9\",\n",
    "    \"zero\": \"0\",\n",
    "}\n",
    "\n",
    "sum = 0\n",
    "valid_digit_regex = r\"(?=(\\d|one|two|three|four|five|six|seven|eight|nine|zero))\"\n",
    "for row in input_list:\n",
    "    row_digits = re.findall(valid_digit_regex, row)\n",
    "    for i, rd in enumerate(row_digits):\n",
    "        if not rd.isdigit():\n",
    "            row_digits[i] = words2digits[rd]\n",
    "\n",
    "    calibration_value = int(row_digits[0] + row_digits[-1])\n",
    "    sum += calibration_value\n",
    "print(sum)"
   ]
  },
  {
   "cell_type": "markdown",
   "metadata": {},
   "source": [
    "---\n",
    "# DAY 2"
   ]
  },
  {
   "cell_type": "markdown",
   "metadata": {},
   "source": []
  },
  {
   "cell_type": "code",
   "execution_count": 170,
   "metadata": {},
   "outputs": [],
   "source": [
    "import urllib\n",
    "import re\n",
    "from dataclasses import dataclass\n",
    "\n",
    "# read data from the downloaded txt\n",
    "puzzle_input = open(\"./puzzle_inputs/day2.txt\").read().split(\"\\n\")"
   ]
  },
  {
   "cell_type": "code",
   "execution_count": 228,
   "metadata": {},
   "outputs": [],
   "source": [
    "# Some basic order in the data that we are getting\n",
    "@dataclass\n",
    "class cubeDraw:\n",
    "    red: int = 0\n",
    "    blue: int = 0\n",
    "    green: int = 0\n",
    "\n",
    "\n",
    "@dataclass\n",
    "class drawList:\n",
    "    ID: int\n",
    "    drawList: list[cubeDraw]\n",
    "    minimunSet: cubeDraw  # The minimun set has the same structure as a draw, used in part 2\n",
    "\n",
    "\n",
    "# Regex for finding the values of red, blue and green\n",
    "rregex = r\"(\\d+) red\"\n",
    "bregex = r\"(\\d+) blue\"\n",
    "gregex = r\"(\\d+) green\"\n",
    "\n",
    "game_draws = []\n",
    "\n",
    "for game in puzzle_input:\n",
    "    gameID = game.split(\":\")[0].split(\" \")[1]\n",
    "    drawlist = game.split(\":\")[1:][0].split(\";\")\n",
    "\n",
    "    numeric_draws = []\n",
    "    for d in drawlist:\n",
    "        draw = cubeDraw()\n",
    "        if \"red\" in d:\n",
    "            draw.red = int(re.search(rregex, d).group(1))\n",
    "        if \"blue\" in d:\n",
    "            draw.blue = int(re.search(bregex, d).group(1))\n",
    "        if \"green\" in d:\n",
    "            draw.green = int(re.search(gregex, d).group(1))\n",
    "        numeric_draws.append(draw)\n",
    "    game_draws.append(drawList(gameID, numeric_draws, cubeDraw()))"
   ]
  },
  {
   "cell_type": "code",
   "execution_count": 230,
   "metadata": {},
   "outputs": [
    {
     "name": "stdout",
     "output_type": "stream",
     "text": [
      "2348\n"
     ]
    }
   ],
   "source": [
    "# Now we iterate over all draws in game_draws and find those who have a invalid number of cubes in any draw:\n",
    "# Stage 1: cube limits\n",
    "\n",
    "# max_cubes = {\"red\": 12, \"green\": 13, \"blue\": 14}\n",
    "\n",
    "# A game is valid if all of it's draws have a number of cubes of each color less than or equal to the maximun number of cubes for each color.\n",
    "invalid_game_IDS = []\n",
    "for game in game_draws:\n",
    "    for draw in game.drawList:\n",
    "        if (draw.red > 12) | (draw.green > 13) | (draw.blue > 14):\n",
    "            invalid_game_IDS.append(int(game.ID))\n",
    "            break\n",
    "\n",
    "# Using sets isntead of logic beacuse I'm a moron\n",
    "all_games_id = set([int(game.ID) for game in game_draws])\n",
    "invalid_games_id = set(invalid_game_IDS)\n",
    "\n",
    "valid_games = all_games_id.difference(invalid_game_IDS)\n",
    "sum = 0\n",
    "for id in valid_games:\n",
    "    sum += id\n",
    "print(sum)"
   ]
  },
  {
   "cell_type": "markdown",
   "metadata": {},
   "source": [
    "# Part 2. Porwesets"
   ]
  },
  {
   "cell_type": "code",
   "execution_count": 237,
   "metadata": {},
   "outputs": [],
   "source": [
    "# Find the power of the minimun set of cubes in each game, then add them together\n",
    "\"\"\" \n",
    "    I retroactivelly added the minimunSet attribute into the drawlist class\n",
    "\"\"\"\n",
    "\n",
    "# For each game, find the maximun number of cubes that must have been present (max red, green and blue for all draws in a game)\n",
    "game_minset = {\"red\": 0, \"green\": 0, \"blue\": 0}\n",
    "\n",
    "for game in game_draws:\n",
    "    game.minimunSet = cubeDraw(\n",
    "        max([draw.red for draw in game.drawList]),\n",
    "        max([draw.green for draw in game.drawList]),\n",
    "        max([draw.blue for draw in game.drawList]),\n",
    "    )"
   ]
  },
  {
   "cell_type": "code",
   "execution_count": 238,
   "metadata": {},
   "outputs": [
    {
     "name": "stdout",
     "output_type": "stream",
     "text": [
      "76008\n"
     ]
    }
   ],
   "source": [
    "# Calculate the power for all minimun set in every game\n",
    "sum_of_powers = 0\n",
    "for game in game_draws:\n",
    "    sum_of_powers += game.minimunSet.red * game.minimunSet.green * game.minimunSet.blue\n",
    "print(sum_of_powers)"
   ]
  },
  {
   "cell_type": "code",
   "execution_count": null,
   "metadata": {},
   "outputs": [],
   "source": []
  },
  {
   "cell_type": "markdown",
   "metadata": {},
   "source": [
    "---\n",
    "# Day 3"
   ]
  },
  {
   "cell_type": "code",
   "execution_count": 251,
   "metadata": {},
   "outputs": [],
   "source": [
    "# Load the puzzle data\n",
    "\n",
    "puzzle_input = open(\"./puzzle_inputs/day3.txt\").read().split(\"\\n\")"
   ]
  },
  {
   "cell_type": "code",
   "execution_count": 272,
   "metadata": {},
   "outputs": [],
   "source": [
    "# Lets load it into a matrix of shape 140x140, the diagonal and vertical symbols are important so we need to preserve the structure.\n",
    "import numpy as np\n",
    "\n",
    "schematic = np.chararray((len(puzzle_input), len(puzzle_input[0])))"
   ]
  },
  {
   "cell_type": "code",
   "execution_count": 274,
   "metadata": {},
   "outputs": [],
   "source": [
    "for i, charlist in enumerate(puzzle_input):\n",
    "    for j, char in enumerate(charlist):\n",
    "        schematic[i, j] = char"
   ]
  },
  {
   "cell_type": "code",
   "execution_count": 277,
   "metadata": {},
   "outputs": [
    {
     "data": {
      "text/plain": [
       "chararray([[b'.', b'.', b'.', ..., b'5', b'4', b'1'],\n",
       "           [b'.', b'.', b'.', ..., b'.', b'.', b'.'],\n",
       "           [b'.', b'.', b'.', ..., b'4', b'6', b'6'],\n",
       "           ...,\n",
       "           [b'.', b'.', b'.', ..., b'.', b'.', b'.'],\n",
       "           [b'.', b'.', b'.', ..., b'.', b'.', b'.'],\n",
       "           [b'.', b'.', b'5', ..., b'.', b'.', b'.']], dtype='|S1')"
      ]
     },
     "execution_count": 277,
     "metadata": {},
     "output_type": "execute_result"
    }
   ],
   "source": [
    "schematic"
   ]
  },
  {
   "cell_type": "code",
   "execution_count": 392,
   "metadata": {},
   "outputs": [],
   "source": [
    "# Step 1:\n",
    "\"\"\"  \n",
    "    Find all single digits that are next to a symbol\n",
    "\"\"\"\n",
    "\n",
    "\n",
    "def neighbourhood(i, j, arr):\n",
    "    \"\"\"\n",
    "    Recover the nearest 3-8 elements of an array given a position (i,j)\n",
    "    \"\"\"\n",
    "    top = max(i - 1, 0)\n",
    "    left = max(j - 1, 0)\n",
    "    bottom = min(i + 2, arr.shape[0])\n",
    "    right = min(j + 2, arr.shape[1])\n",
    "    result = arr[top:bottom, left:right]\n",
    "    return result\n",
    "\n",
    "\n",
    "def sybolFinder(i, j, charmatrix):\n",
    "    \"\"\"\n",
    "    Given a position in the matrix, chech if the character in the 8 possible possitions is not \".\" or another number\n",
    "\n",
    "    Carefull with the borders!\n",
    "    \"\"\"\n",
    "\n",
    "    number_grid = neighbourhood(i, j, charmatrix)\n",
    "\n",
    "    # Chech if the idex is adjacent to something other than a \".\" or another number.\n",
    "    is_adjacent = any(\n",
    "        [\n",
    "            (\n",
    "                (\".\" != str(n, encoding=\"ascii\"))\n",
    "                & (not bool(re.search(r\"\\d\", str(n, encoding=\"ascii\"))))\n",
    "            )\n",
    "            for n in number_grid.flatten()\n",
    "        ]\n",
    "    )\n",
    "\n",
    "    return is_adjacent\n",
    "\n",
    "\n",
    "def isNumber(i, j, charmatrix):\n",
    "    return str(charmatrix[i, j], encoding=\"ascii\").isdigit()"
   ]
  },
  {
   "cell_type": "code",
   "execution_count": 453,
   "metadata": {},
   "outputs": [],
   "source": [
    "# Create the boolean array with the valid cells (those that contain a number and are adjacent to a symbol)\n",
    "\n",
    "is_adjacent_matrix = np.empty(shape=schematic.shape, dtype=bool)\n",
    "is_number_matrix = np.empty(shape=schematic.shape, dtype=bool)\n",
    "\n",
    "# Find where there is a single digit and the cell is adjacent to a digit\n",
    "is_target_matrix = np.empty(shape=schematic.shape, dtype=bool)\n",
    "\n",
    "for i in range(schematic.shape[0]):\n",
    "    for j in range(schematic.shape[1]):\n",
    "        is_adjacent_matrix[i, j] = sybolFinder(i, j, schematic)\n",
    "        is_number_matrix[i, j] = isNumber(i, j, schematic)\n",
    "        is_target_matrix[i, j] = is_adjacent_matrix[i, j] & is_number_matrix[i, j]"
   ]
  },
  {
   "cell_type": "code",
   "execution_count": 445,
   "metadata": {},
   "outputs": [],
   "source": [
    "# Now we recover all the digits in the same line as the target matrix shows, for this we can reconstitute the strings and work with a list of bools and char for each row of the matrix\n",
    "matches = [x for x in re.finditer(pattern=r\"\\d+\", string=puzzle_input[0])]\n",
    "\n",
    "# chech if each span contains a True in the boolean list\n",
    "valid_matches = []\n",
    "for m in matches:\n",
    "    if is_target_matrix[0, m.span()[0] : m.span()[1]].any():\n",
    "        valid_matches.append(m.group())"
   ]
  },
  {
   "cell_type": "code",
   "execution_count": 449,
   "metadata": {},
   "outputs": [],
   "source": [
    "# One wrapper more for all the rows in the puzzle input:\n",
    "valid_matches = []\n",
    "for i, row in enumerate(puzzle_input):\n",
    "    matches = [m for m in re.finditer(pattern=r\"\\d+\", string=row)]\n",
    "    for m in matches:\n",
    "        if is_target_matrix[i, m.span()[0] : m.span()[1]].any():\n",
    "            valid_matches.append(m.group())"
   ]
  },
  {
   "cell_type": "code",
   "execution_count": 451,
   "metadata": {},
   "outputs": [
    {
     "data": {
      "text/plain": [
       "530495"
      ]
     },
     "execution_count": 451,
     "metadata": {},
     "output_type": "execute_result"
    }
   ],
   "source": [
    "# adding all toguether:\n",
    "sum = 0\n",
    "for n in valid_matches:\n",
    "    sum += int(n)\n",
    "sum"
   ]
  },
  {
   "cell_type": "markdown",
   "metadata": {},
   "source": [
    "# Part 2"
   ]
  },
  {
   "cell_type": "code",
   "execution_count": null,
   "metadata": {},
   "outputs": [],
   "source": [
    "# Finding gears and gear ratios\n",
    "\"\"\" \n",
    "    We can reuse the neighbourhood functions tu find all elements that are * with two adjacent numbers\n",
    "\"\"\"\n",
    "\n",
    "\n",
    "# Finding their corresponding numbers\n",
    "\n",
    "# Multiply and sum"
   ]
  },
  {
   "cell_type": "code",
   "execution_count": 454,
   "metadata": {},
   "outputs": [],
   "source": [
    "# Finding the potential gears\n",
    "is_asterisc_matrix = np.empty(shape=schematic.shape, dtype=bool)\n",
    "\n",
    "for i in range(schematic.shape[0]):\n",
    "    for j in range(schematic.shape[1]):\n",
    "        is_asterisc_matrix[i, j] = str(schematic[i, j], encoding=\"ascii\") == \"*\""
   ]
  },
  {
   "cell_type": "code",
   "execution_count": 525,
   "metadata": {},
   "outputs": [],
   "source": [
    "# For each asterisc, find the ones that are gears.\n",
    "\"\"\" \n",
    "A gear is an asterisc that is touching 2 parts (distinct numbers).\n",
    "Consecutive numbers should not be counted as two numbers.\n",
    "\"\"\"\n",
    "\n",
    "# Check if any row in the neighbourhood of an asterisc is [digit, \"other\", digit]. If it is -> gear\n",
    "\n",
    "# elif two distict rows have any digits -> gear\n",
    "\n",
    "# (else not a gear)\n",
    "\n",
    "\n",
    "# Logic functions for finding the gears: ---\n",
    "def rowlikeGear(nbh):\n",
    "    \"\"\"\n",
    "    Returns if the neighbourhood of an asterisc have a [digit, other, digit] structure\n",
    "    \"\"\"\n",
    "\n",
    "    for row in nbh:\n",
    "        if (row[0].isdigit()) & (not row[1].isdigit()) & (row[2].isdigit()):\n",
    "            return True\n",
    "\n",
    "    return False\n",
    "\n",
    "\n",
    "def columnlikeGear(nbh):\n",
    "    \"\"\"\n",
    "    Returns if the neighbourhood of an asterisc presents a gear connecting two rows\n",
    "    \"\"\"\n",
    "\n",
    "    votes = [any([char.isdigit() for char in row]) for row in nbh]\n",
    "    votesum = 0\n",
    "    for v in votes:\n",
    "        votesum += v\n",
    "    if votesum > 1:\n",
    "        return True\n",
    "\n",
    "    return False"
   ]
  },
  {
   "cell_type": "code",
   "execution_count": 546,
   "metadata": {},
   "outputs": [],
   "source": [
    "# Inplementation\n",
    "is_gear_matrix = np.empty(shape=schematic.shape, dtype=bool)\n",
    "for i in range(schematic.shape[0]):\n",
    "    for j in range(schematic.shape[1]):\n",
    "        if is_asterisc_matrix[i, j] == True:\n",
    "            nbh = neighbourhood(i, j, schematic)\n",
    "\n",
    "            if rowlikeGear(nbh) == True:\n",
    "                is_gear_matrix[i, j] = True\n",
    "\n",
    "            elif columnlikeGear(nbh) == True:\n",
    "                is_gear_matrix[i, j] = True\n",
    "\n",
    "            else:\n",
    "                is_gear_matrix[i, j] = False\n",
    "        else:\n",
    "            is_gear_matrix[i, j] = False"
   ]
  },
  {
   "cell_type": "code",
   "execution_count": 547,
   "metadata": {},
   "outputs": [
    {
     "data": {
      "text/plain": [
       "(chararray([[b'1', b'.', b'.'],\n",
       "            [b'.', b'*', b'.'],\n",
       "            [b'6', b'0', b'.']], dtype='|S1'),\n",
       " False,\n",
       " True)"
      ]
     },
     "execution_count": 547,
     "metadata": {},
     "output_type": "execute_result"
    }
   ],
   "source": [
    "# Example\n",
    "nbh = neighbourhood(40, 6, schematic)\n",
    "nbh, rowlikeGear(nbh), columnlikeGear(nbh)"
   ]
  },
  {
   "cell_type": "code",
   "execution_count": 1,
   "metadata": {},
   "outputs": [],
   "source": [
    "# Now that we know the gears, lets find the numbers for each one."
   ]
  },
  {
   "cell_type": "code",
   "execution_count": null,
   "metadata": {},
   "outputs": [],
   "source": []
  },
  {
   "cell_type": "code",
   "execution_count": null,
   "metadata": {},
   "outputs": [],
   "source": []
  },
  {
   "cell_type": "markdown",
   "metadata": {},
   "source": [
    "--- \n",
    "# Day 4"
   ]
  },
  {
   "cell_type": "code",
   "execution_count": 18,
   "metadata": {},
   "outputs": [],
   "source": [
    "#\n",
    "from dataclasses import dataclass"
   ]
  },
  {
   "cell_type": "code",
   "execution_count": 3,
   "metadata": {},
   "outputs": [],
   "source": [
    "# Load puzzle data\n",
    "puzzle_input = open(\"./puzzle_inputs/day4.txt\").read().split(\"\\n\")"
   ]
  },
  {
   "cell_type": "code",
   "execution_count": 16,
   "metadata": {},
   "outputs": [
    {
     "data": {
      "text/plain": [
       "[' 82 41 56 54 18 62 29 55 34 20 ',\n",
       " ' 37 14 10 80 58 11 65 96 90  8 59 32 53 21 98 83 17  9 87 25 71 77 70 73 24']"
      ]
     },
     "execution_count": 16,
     "metadata": {},
     "output_type": "execute_result"
    }
   ],
   "source": [
    "row = puzzle_input[0]\n",
    "row.split(\":\")[1].split(\"|\")"
   ]
  },
  {
   "cell_type": "code",
   "execution_count": 117,
   "metadata": {},
   "outputs": [
    {
     "name": "stdout",
     "output_type": "stream",
     "text": [
      "Card  43: 10 80 63 20 60 76 12 75 31  8 | 93 37 34 67 21 56 22 16 94 57 71 47 33 73 54 81 51 46 70 63 42 14 26 86 66\n",
      "Card(cardID=43, winingNumbers={8, 10, 75, 76, 12, 31, 80, 20, 60, 63}, playedNumbers={14, 16, 21, 22, 26, 33, 34, 37, 42, 46, 47, 51, 54, 56, 57, 63, 66, 67, 70, 71, 73, 81, 86, 93, 94}, cardValue=0, copies=1)\n"
     ]
    }
   ],
   "source": [
    "@dataclass\n",
    "class Card:\n",
    "    cardID: int\n",
    "    winingNumbers: set[int]  # 10 winning numbers\n",
    "    playedNumbers: set[int]  # 25 played numbers\n",
    "    cardValue: int = 0\n",
    "    copies: int = 1  # for part 2\n",
    "\n",
    "\n",
    "# Excplicit definition of the class ?\n",
    "\n",
    "\n",
    "# load the puzzle input into a list of Card objects:\n",
    "\n",
    "card_list = []\n",
    "for row in puzzle_input:\n",
    "    cardID = int(row.split(\":\")[0].split(\" \")[-1])\n",
    "\n",
    "    playedNumbers = set(\n",
    "        [\n",
    "            int(char)\n",
    "            for char in row.split(\":\")[1].split(\"|\")[1].split(\" \")\n",
    "            if char.isdigit()\n",
    "        ]\n",
    "    )\n",
    "\n",
    "    winingNumbers = set(\n",
    "        [\n",
    "            int(char)\n",
    "            for char in row.split(\":\")[1].split(\"|\")[0].split(\" \")\n",
    "            if char.isdigit()\n",
    "        ]\n",
    "    )\n",
    "\n",
    "    card = Card(cardID=cardID, playedNumbers=playedNumbers, winingNumbers=winingNumbers)\n",
    "\n",
    "    card_list.append(card)\n",
    "\n",
    "# Example\n",
    "inx = 42\n",
    "print(puzzle_input[inx])\n",
    "print(card_list[inx])"
   ]
  },
  {
   "cell_type": "code",
   "execution_count": 118,
   "metadata": {},
   "outputs": [],
   "source": [
    "# Calculate the value of the card:\n",
    "\"\"\"  \n",
    "    Chech how many numbers in winning numbers are in played numbers (N)\n",
    "    cardValue = 2**(N-1)\n",
    "\"\"\"\n",
    "\n",
    "for card in card_list:\n",
    "    common_digits = card.winingNumbers.intersection(card.playedNumbers)\n",
    "    N = len(common_digits)\n",
    "    if N > 0:\n",
    "        card.cardValue = 2 ** (N - 1)"
   ]
  },
  {
   "cell_type": "code",
   "execution_count": 119,
   "metadata": {},
   "outputs": [
    {
     "name": "stdout",
     "output_type": "stream",
     "text": [
      "20667\n"
     ]
    }
   ],
   "source": [
    "# Now we just add the number of points:\n",
    "total = 0\n",
    "for card in card_list:\n",
    "    total += card.cardValue\n",
    "\n",
    "print(total)"
   ]
  },
  {
   "cell_type": "markdown",
   "metadata": {},
   "source": [
    "---\n",
    "# Part 2\n",
    "\n",
    "We now add a new field to the dataclass (copies)"
   ]
  },
  {
   "cell_type": "code",
   "execution_count": 71,
   "metadata": {},
   "outputs": [],
   "source": [
    "# @dataclass\n",
    "# class Card:\n",
    "#     cardID: int\n",
    "#     winingNumbers: set[int]  # 10 winning numbers\n",
    "#     playedNumbers: set[int]  # 25 played numbers\n",
    "#     cardValue: int = 0  # We actually dont need this for the next part ...\n",
    "#     copies: int = 1"
   ]
  },
  {
   "cell_type": "code",
   "execution_count": 115,
   "metadata": {},
   "outputs": [],
   "source": [
    "# Now we process the last list, for card i:  the sqrt(card_value) = N is the number of cards with id i+1, i+2, ... , i+N that we need to increment the copies of.\n",
    "import numpy as np\n",
    "\n",
    "for card in card_list:\n",
    "    N = int(np.sqrt(card.cardValue))\n",
    "    if N > 0:\n",
    "        for i in range(\n",
    "            min(card.cardID, len(card_list) - 1),\n",
    "            min((card.cardID + N), len(card_list) - 1),\n",
    "            1,\n",
    "        ):  # Index starts at 0, so we dont need to add 1 to the starting ID, since it starts at 1\n",
    "            card_list[i].copies = card_list[i].copies + card.copies\n",
    "            # TODO: This assignment seems to not do anything ??"
   ]
  },
  {
   "cell_type": "code",
   "execution_count": 116,
   "metadata": {},
   "outputs": [
    {
     "name": "stdout",
     "output_type": "stream",
     "text": [
      "101044127248461257999323012787236688917103228652412\n"
     ]
    }
   ],
   "source": [
    "# count the total number of cards:\n",
    "total_copies = 0\n",
    "for card in card_list:\n",
    "    total_copies += card.copies\n",
    "\n",
    "print(total_copies)"
   ]
  },
  {
   "cell_type": "code",
   "execution_count": 111,
   "metadata": {},
   "outputs": [
    {
     "data": {
      "text/plain": [
       "Card(cardID=211, winingNumbers={97, 70, 41, 78, 51, 61, 22, 55, 26, 29}, playedNumbers={1, 2, 3, 5, 10, 12, 13, 15, 16, 23, 24, 35, 38, 40, 43, 45, 48, 52, 53, 66, 69, 71, 74, 77, 84}, cardValue=0, copies=1)"
      ]
     },
     "execution_count": 111,
     "metadata": {},
     "output_type": "execute_result"
    }
   ],
   "source": [
    "card_list[len(card_list) - 1]"
   ]
  },
  {
   "cell_type": "code",
   "execution_count": null,
   "metadata": {},
   "outputs": [],
   "source": []
  },
  {
   "cell_type": "markdown",
   "metadata": {},
   "source": [
    "___\n",
    "# Day 5\n"
   ]
  },
  {
   "cell_type": "code",
   "execution_count": 22,
   "metadata": {},
   "outputs": [],
   "source": [
    "import pandas as pd\n",
    "\n",
    "filepath = \"./puzzle_inputs/day5.txt\"\n",
    "puzzle_input = open(filepath).read().split(\"\\n\")"
   ]
  },
  {
   "cell_type": "code",
   "execution_count": 21,
   "metadata": {},
   "outputs": [],
   "source": [
    "# Custom functions to reed tables from a txt and get the correct mapiing when necessary\n",
    "\n",
    "\n",
    "def read_table(file, table_name):\n",
    "    table = {\n",
    "        \"destination_range_start\": [],\n",
    "        \"source_range_start\": [],\n",
    "        \"range_length\": [],\n",
    "    }\n",
    "    start_reading = False\n",
    "\n",
    "    with open(file, \"r\") as f:\n",
    "        for line in f:\n",
    "            line = line.strip()\n",
    "            if line == f\"{table_name}:\":\n",
    "                start_reading = True\n",
    "                continue\n",
    "            elif not line:\n",
    "                start_reading = False\n",
    "                continue\n",
    "\n",
    "            if start_reading:\n",
    "                data = line.split()\n",
    "                for i, key in enumerate(table.keys()):\n",
    "                    table[key].append(int(data[i]))\n",
    "\n",
    "    return table\n",
    "\n",
    "\n",
    "# TODO: I need to frame this into a MAP, so the computations are doable in part 2\n",
    "\n",
    "\n",
    "def mapSourceToDestination(df, source_num):\n",
    "    \"\"\"\n",
    "    Given a table and a source number, calculate the destination number acording\n",
    "    to the logic in the puzzle\n",
    "    \"\"\"\n",
    "\n",
    "    # Default answer, if the mapping does not occur, the source is maped as the same destination number\n",
    "    destination_num = source_num\n",
    "\n",
    "    for row in df.index:\n",
    "        dest_r_start = df.iloc[row].iloc[0]\n",
    "        source_r_start = df.iloc[row].iloc[1]\n",
    "        r_length = df.iloc[row].iloc[2]\n",
    "\n",
    "        # If the source number is in a valid interval, calculate the destination number\n",
    "        if ((source_r_start + r_length) > source_num) & (source_num > source_r_start):\n",
    "            destination_num = dest_r_start + (source_num - source_r_start)\n",
    "\n",
    "    return destination_num"
   ]
  },
  {
   "cell_type": "code",
   "execution_count": 23,
   "metadata": {},
   "outputs": [],
   "source": [
    "seed_list = [int(n) for n in puzzle_input[0].split(\":\")[1].split(\" \") if n.isdigit()]\n",
    "seed_to_soil = pd.DataFrame.from_dict(read_table(filepath, \"seed-to-soil map\"))\n",
    "\n",
    "soil_to_fertilizer = pd.DataFrame.from_dict(\n",
    "    read_table(filepath, \"soil-to-fertilizer map\")\n",
    ")\n",
    "\n",
    "fertilizer_to_water = pd.DataFrame.from_dict(\n",
    "    read_table(filepath, \"fertilizer-to-water map\")\n",
    ")\n",
    "\n",
    "water_to_light = pd.DataFrame.from_dict(read_table(filepath, \"water-to-light map\"))\n",
    "\n",
    "light_to_temperature = pd.DataFrame.from_dict(\n",
    "    read_table(filepath, \"light-to-temperature map\")\n",
    ")\n",
    "\n",
    "temperature_to_humidity = pd.DataFrame.from_dict(\n",
    "    read_table(filepath, \"temperature-to-humidity map\")\n",
    ")\n",
    "\n",
    "humidity_to_location = pd.DataFrame.from_dict(\n",
    "    read_table(filepath, \"humidity-to-location map\")\n",
    ")"
   ]
  },
  {
   "cell_type": "code",
   "execution_count": 24,
   "metadata": {},
   "outputs": [],
   "source": [
    "# Using map():\n",
    "\n",
    "soil_list = map(lambda x: mapSourceToDestination(seed_to_soil, x), seed_list)\n",
    "\n",
    "fertilizer_list = map(\n",
    "    lambda x: mapSourceToDestination(soil_to_fertilizer, x), soil_list\n",
    ")\n",
    "\n",
    "water_list = map(\n",
    "    lambda x: mapSourceToDestination(fertilizer_to_water, x), fertilizer_list\n",
    ")\n",
    "\n",
    "ligth_list = map(lambda x: mapSourceToDestination(water_to_light, x), water_list)\n",
    "\n",
    "temperature_list = map(\n",
    "    lambda x: mapSourceToDestination(light_to_temperature, x), ligth_list\n",
    ")\n",
    "\n",
    "humidity_list = map(\n",
    "    lambda x: mapSourceToDestination(temperature_to_humidity, x), temperature_list\n",
    ")\n",
    "\n",
    "location_list = map(\n",
    "    lambda x: mapSourceToDestination(humidity_to_location, x), humidity_list\n",
    ")"
   ]
  },
  {
   "cell_type": "code",
   "execution_count": 25,
   "metadata": {},
   "outputs": [
    {
     "data": {
      "text/html": [
       "<div>\n",
       "<style scoped>\n",
       "    .dataframe tbody tr th:only-of-type {\n",
       "        vertical-align: middle;\n",
       "    }\n",
       "\n",
       "    .dataframe tbody tr th {\n",
       "        vertical-align: top;\n",
       "    }\n",
       "\n",
       "    .dataframe thead th {\n",
       "        text-align: right;\n",
       "    }\n",
       "</style>\n",
       "<table border=\"1\" class=\"dataframe\">\n",
       "  <thead>\n",
       "    <tr style=\"text-align: right;\">\n",
       "      <th></th>\n",
       "      <th>seed</th>\n",
       "      <th>location</th>\n",
       "    </tr>\n",
       "  </thead>\n",
       "  <tbody>\n",
       "    <tr>\n",
       "      <th>9</th>\n",
       "      <td>111959634</td>\n",
       "      <td>322500873</td>\n",
       "    </tr>\n",
       "    <tr>\n",
       "      <th>11</th>\n",
       "      <td>119609663</td>\n",
       "      <td>330150902</td>\n",
       "    </tr>\n",
       "    <tr>\n",
       "      <th>5</th>\n",
       "      <td>139859832</td>\n",
       "      <td>350401071</td>\n",
       "    </tr>\n",
       "    <tr>\n",
       "      <th>18</th>\n",
       "      <td>864476811</td>\n",
       "      <td>439018996</td>\n",
       "    </tr>\n",
       "    <tr>\n",
       "      <th>14</th>\n",
       "      <td>2035874278</td>\n",
       "      <td>629695516</td>\n",
       "    </tr>\n",
       "    <tr>\n",
       "      <th>2</th>\n",
       "      <td>3319921504</td>\n",
       "      <td>796058796</td>\n",
       "    </tr>\n",
       "    <tr>\n",
       "      <th>1</th>\n",
       "      <td>99920667</td>\n",
       "      <td>1241215496</td>\n",
       "    </tr>\n",
       "    <tr>\n",
       "      <th>17</th>\n",
       "      <td>55841637</td>\n",
       "      <td>1679819321</td>\n",
       "    </tr>\n",
       "    <tr>\n",
       "      <th>13</th>\n",
       "      <td>56288233</td>\n",
       "      <td>1680265917</td>\n",
       "    </tr>\n",
       "    <tr>\n",
       "      <th>4</th>\n",
       "      <td>67832336</td>\n",
       "      <td>1691810020</td>\n",
       "    </tr>\n",
       "    <tr>\n",
       "      <th>15</th>\n",
       "      <td>85269124</td>\n",
       "      <td>1709246808</td>\n",
       "    </tr>\n",
       "    <tr>\n",
       "      <th>8</th>\n",
       "      <td>1591621692</td>\n",
       "      <td>1807732639</td>\n",
       "    </tr>\n",
       "    <tr>\n",
       "      <th>16</th>\n",
       "      <td>4145746192</td>\n",
       "      <td>2045643344</td>\n",
       "    </tr>\n",
       "    <tr>\n",
       "      <th>3</th>\n",
       "      <td>153335682</td>\n",
       "      <td>2359213054</td>\n",
       "    </tr>\n",
       "    <tr>\n",
       "      <th>12</th>\n",
       "      <td>733590868</td>\n",
       "      <td>2627973033</td>\n",
       "    </tr>\n",
       "    <tr>\n",
       "      <th>6</th>\n",
       "      <td>2322838536</td>\n",
       "      <td>2761422636</td>\n",
       "    </tr>\n",
       "    <tr>\n",
       "      <th>19</th>\n",
       "      <td>347179760</td>\n",
       "      <td>2933891955</td>\n",
       "    </tr>\n",
       "    <tr>\n",
       "      <th>10</th>\n",
       "      <td>442852010</td>\n",
       "      <td>3052504695</td>\n",
       "    </tr>\n",
       "    <tr>\n",
       "      <th>0</th>\n",
       "      <td>1367444651</td>\n",
       "      <td>3744061387</td>\n",
       "    </tr>\n",
       "    <tr>\n",
       "      <th>7</th>\n",
       "      <td>666063790</td>\n",
       "      <td>3913149306</td>\n",
       "    </tr>\n",
       "  </tbody>\n",
       "</table>\n",
       "</div>"
      ],
      "text/plain": [
       "          seed    location\n",
       "9    111959634   322500873\n",
       "11   119609663   330150902\n",
       "5    139859832   350401071\n",
       "18   864476811   439018996\n",
       "14  2035874278   629695516\n",
       "2   3319921504   796058796\n",
       "1     99920667  1241215496\n",
       "17    55841637  1679819321\n",
       "13    56288233  1680265917\n",
       "4     67832336  1691810020\n",
       "15    85269124  1709246808\n",
       "8   1591621692  1807732639\n",
       "16  4145746192  2045643344\n",
       "3    153335682  2359213054\n",
       "12   733590868  2627973033\n",
       "6   2322838536  2761422636\n",
       "19   347179760  2933891955\n",
       "10   442852010  3052504695\n",
       "0   1367444651  3744061387\n",
       "7    666063790  3913149306"
      ]
     },
     "execution_count": 25,
     "metadata": {},
     "output_type": "execute_result"
    }
   ],
   "source": [
    "seed_to_location = pd.DataFrame(\n",
    "    {\n",
    "        \"seed\": seed_list,\n",
    "        \"location\": list(location_list),\n",
    "    }\n",
    ")\n",
    "seed_to_location.sort_values(\"location\")"
   ]
  },
  {
   "cell_type": "markdown",
   "metadata": {},
   "source": [
    "# Test data"
   ]
  },
  {
   "cell_type": "code",
   "execution_count": 18,
   "metadata": {},
   "outputs": [],
   "source": [
    "testfilepath = \"./puzzle_inputs/day5test.txt\"\n",
    "\n",
    "puzzle_input = open(testfilepath).read().split(\"\\n\")\n",
    "\n",
    "# Starting seeds list\n",
    "seed_list = [int(n) for n in puzzle_input[0].split(\":\")[1].split(\" \") if n.isdigit()]\n",
    "\n",
    "# Tables\n",
    "seed_to_soil = pd.DataFrame.from_dict(read_table(testfilepath, \"seed-to-soil map\"))\n",
    "\n",
    "soil_to_fertilizer = pd.DataFrame.from_dict(\n",
    "    read_table(testfilepath, \"soil-to-fertilizer map\")\n",
    ")\n",
    "\n",
    "fertilizer_to_water = pd.DataFrame.from_dict(\n",
    "    read_table(testfilepath, \"fertilizer-to-water map\")\n",
    ")\n",
    "\n",
    "water_to_light = pd.DataFrame.from_dict(read_table(testfilepath, \"water-to-light map\"))\n",
    "\n",
    "light_to_temperature = pd.DataFrame.from_dict(\n",
    "    read_table(testfilepath, \"light-to-temperature map\")\n",
    ")\n",
    "\n",
    "temperature_to_humidity = pd.DataFrame.from_dict(\n",
    "    read_table(testfilepath, \"temperature-to-humidity map\")\n",
    ")\n",
    "\n",
    "humidity_to_location = pd.DataFrame.from_dict(\n",
    "    read_table(testfilepath, \"humidity-to-location map\")\n",
    ")"
   ]
  },
  {
   "cell_type": "code",
   "execution_count": 19,
   "metadata": {},
   "outputs": [],
   "source": [
    "# Using map():\n",
    "\n",
    "soil_list = map(lambda x: mapSourceToDestination(seed_to_soil, x), seed_list)\n",
    "\n",
    "fertilizer_list = map(\n",
    "    lambda x: mapSourceToDestination(soil_to_fertilizer, x), soil_list\n",
    ")\n",
    "\n",
    "water_list = map(\n",
    "    lambda x: mapSourceToDestination(fertilizer_to_water, x), fertilizer_list\n",
    ")\n",
    "\n",
    "ligth_list = map(lambda x: mapSourceToDestination(water_to_light, x), water_list)\n",
    "\n",
    "temperature_list = map(\n",
    "    lambda x: mapSourceToDestination(light_to_temperature, x), ligth_list\n",
    ")\n",
    "\n",
    "humidity_list = map(\n",
    "    lambda x: mapSourceToDestination(temperature_to_humidity, x), temperature_list\n",
    ")\n",
    "\n",
    "location_list = map(\n",
    "    lambda x: mapSourceToDestination(humidity_to_location, x), humidity_list\n",
    ")"
   ]
  },
  {
   "cell_type": "code",
   "execution_count": 20,
   "metadata": {},
   "outputs": [
    {
     "data": {
      "text/html": [
       "<div>\n",
       "<style scoped>\n",
       "    .dataframe tbody tr th:only-of-type {\n",
       "        vertical-align: middle;\n",
       "    }\n",
       "\n",
       "    .dataframe tbody tr th {\n",
       "        vertical-align: top;\n",
       "    }\n",
       "\n",
       "    .dataframe thead th {\n",
       "        text-align: right;\n",
       "    }\n",
       "</style>\n",
       "<table border=\"1\" class=\"dataframe\">\n",
       "  <thead>\n",
       "    <tr style=\"text-align: right;\">\n",
       "      <th></th>\n",
       "      <th>seed</th>\n",
       "      <th>location</th>\n",
       "    </tr>\n",
       "  </thead>\n",
       "  <tbody>\n",
       "    <tr>\n",
       "      <th>0</th>\n",
       "      <td>79</td>\n",
       "      <td>82</td>\n",
       "    </tr>\n",
       "    <tr>\n",
       "      <th>1</th>\n",
       "      <td>14</td>\n",
       "      <td>86</td>\n",
       "    </tr>\n",
       "    <tr>\n",
       "      <th>2</th>\n",
       "      <td>55</td>\n",
       "      <td>86</td>\n",
       "    </tr>\n",
       "    <tr>\n",
       "      <th>3</th>\n",
       "      <td>13</td>\n",
       "      <td>35</td>\n",
       "    </tr>\n",
       "  </tbody>\n",
       "</table>\n",
       "</div>"
      ],
      "text/plain": [
       "   seed  location\n",
       "0    79        82\n",
       "1    14        86\n",
       "2    55        86\n",
       "3    13        35"
      ]
     },
     "execution_count": 20,
     "metadata": {},
     "output_type": "execute_result"
    }
   ],
   "source": [
    "seed_to_location = pd.DataFrame({\"seed\": seed_list, \"location\": list(location_list)})\n",
    "seed_to_location"
   ]
  },
  {
   "cell_type": "markdown",
   "metadata": {},
   "source": [
    "# Part 2\n",
    "\n",
    "seed list actually describes ranges of seeds, the original numbers pair up in (start, length) pairs.\n",
    "\n",
    "For this I need to rethink the problem enirely using mappings"
   ]
  },
  {
   "cell_type": "code",
   "execution_count": 26,
   "metadata": {},
   "outputs": [],
   "source": [
    "seed_ranges = []\n",
    "for i in range(len(seed_list) // 2):\n",
    "    seed_ranges.append((seed_list[i], seed_list[i + 1]))"
   ]
  },
  {
   "cell_type": "code",
   "execution_count": 27,
   "metadata": {},
   "outputs": [
    {
     "ename": "KeyboardInterrupt",
     "evalue": "",
     "output_type": "error",
     "traceback": [
      "\u001b[0;31m---------------------------------------------------------------------------\u001b[0m",
      "\u001b[0;31mKeyboardInterrupt\u001b[0m                         Traceback (most recent call last)",
      "\u001b[1;32m/Users/andresterrer/Desktop/VS_Code/AdventOfCode2023/AdventofCode.ipynb Cell 58\u001b[0m line \u001b[0;36m2\n\u001b[1;32m     <a href='vscode-notebook-cell:/Users/andresterrer/Desktop/VS_Code/AdventOfCode2023/AdventofCode.ipynb#Y130sZmlsZQ%3D%3D?line=19'>20</a>\u001b[0m     humidity_list \u001b[39m=\u001b[39m \u001b[39mmap\u001b[39m(\n\u001b[1;32m     <a href='vscode-notebook-cell:/Users/andresterrer/Desktop/VS_Code/AdventOfCode2023/AdventofCode.ipynb#Y130sZmlsZQ%3D%3D?line=20'>21</a>\u001b[0m         \u001b[39mlambda\u001b[39;00m x: mapSourceToDestination(temperature_to_humidity, x), temperature_list\n\u001b[1;32m     <a href='vscode-notebook-cell:/Users/andresterrer/Desktop/VS_Code/AdventOfCode2023/AdventofCode.ipynb#Y130sZmlsZQ%3D%3D?line=21'>22</a>\u001b[0m     )\n\u001b[1;32m     <a href='vscode-notebook-cell:/Users/andresterrer/Desktop/VS_Code/AdventOfCode2023/AdventofCode.ipynb#Y130sZmlsZQ%3D%3D?line=23'>24</a>\u001b[0m     location_list \u001b[39m=\u001b[39m \u001b[39mmap\u001b[39m(\n\u001b[1;32m     <a href='vscode-notebook-cell:/Users/andresterrer/Desktop/VS_Code/AdventOfCode2023/AdventofCode.ipynb#Y130sZmlsZQ%3D%3D?line=24'>25</a>\u001b[0m         \u001b[39mlambda\u001b[39;00m x: mapSourceToDestination(humidity_to_location, x), humidity_list\n\u001b[1;32m     <a href='vscode-notebook-cell:/Users/andresterrer/Desktop/VS_Code/AdventOfCode2023/AdventofCode.ipynb#Y130sZmlsZQ%3D%3D?line=25'>26</a>\u001b[0m     )\n\u001b[0;32m---> <a href='vscode-notebook-cell:/Users/andresterrer/Desktop/VS_Code/AdventOfCode2023/AdventofCode.ipynb#Y130sZmlsZQ%3D%3D?line=27'>28</a>\u001b[0m     seed_to_location \u001b[39m=\u001b[39m pd\u001b[39m.\u001b[39;49mDataFrame(\n\u001b[1;32m     <a href='vscode-notebook-cell:/Users/andresterrer/Desktop/VS_Code/AdventOfCode2023/AdventofCode.ipynb#Y130sZmlsZQ%3D%3D?line=28'>29</a>\u001b[0m         {\n\u001b[1;32m     <a href='vscode-notebook-cell:/Users/andresterrer/Desktop/VS_Code/AdventOfCode2023/AdventofCode.ipynb#Y130sZmlsZQ%3D%3D?line=29'>30</a>\u001b[0m             \u001b[39m\"\u001b[39;49m\u001b[39mseed\u001b[39;49m\u001b[39m\"\u001b[39;49m: seed_list,\n\u001b[1;32m     <a href='vscode-notebook-cell:/Users/andresterrer/Desktop/VS_Code/AdventOfCode2023/AdventofCode.ipynb#Y130sZmlsZQ%3D%3D?line=30'>31</a>\u001b[0m             \u001b[39m\"\u001b[39;49m\u001b[39mlocation\u001b[39;49m\u001b[39m\"\u001b[39;49m: location_list,\n\u001b[1;32m     <a href='vscode-notebook-cell:/Users/andresterrer/Desktop/VS_Code/AdventOfCode2023/AdventofCode.ipynb#Y130sZmlsZQ%3D%3D?line=31'>32</a>\u001b[0m         }\n\u001b[1;32m     <a href='vscode-notebook-cell:/Users/andresterrer/Desktop/VS_Code/AdventOfCode2023/AdventofCode.ipynb#Y130sZmlsZQ%3D%3D?line=32'>33</a>\u001b[0m     )\n\u001b[1;32m     <a href='vscode-notebook-cell:/Users/andresterrer/Desktop/VS_Code/AdventOfCode2023/AdventofCode.ipynb#Y130sZmlsZQ%3D%3D?line=33'>34</a>\u001b[0m seed_to_location\n",
      "File \u001b[0;32m~/Desktop/VS_Code/AdventOfCode2023/.venv/lib/python3.9/site-packages/pandas/core/frame.py:733\u001b[0m, in \u001b[0;36mDataFrame.__init__\u001b[0;34m(self, data, index, columns, dtype, copy)\u001b[0m\n\u001b[1;32m    727\u001b[0m     mgr \u001b[39m=\u001b[39m \u001b[39mself\u001b[39m\u001b[39m.\u001b[39m_init_mgr(\n\u001b[1;32m    728\u001b[0m         data, axes\u001b[39m=\u001b[39m{\u001b[39m\"\u001b[39m\u001b[39mindex\u001b[39m\u001b[39m\"\u001b[39m: index, \u001b[39m\"\u001b[39m\u001b[39mcolumns\u001b[39m\u001b[39m\"\u001b[39m: columns}, dtype\u001b[39m=\u001b[39mdtype, copy\u001b[39m=\u001b[39mcopy\n\u001b[1;32m    729\u001b[0m     )\n\u001b[1;32m    731\u001b[0m \u001b[39melif\u001b[39;00m \u001b[39misinstance\u001b[39m(data, \u001b[39mdict\u001b[39m):\n\u001b[1;32m    732\u001b[0m     \u001b[39m# GH#38939 de facto copy defaults to False only in non-dict cases\u001b[39;00m\n\u001b[0;32m--> 733\u001b[0m     mgr \u001b[39m=\u001b[39m dict_to_mgr(data, index, columns, dtype\u001b[39m=\u001b[39;49mdtype, copy\u001b[39m=\u001b[39;49mcopy, typ\u001b[39m=\u001b[39;49mmanager)\n\u001b[1;32m    734\u001b[0m \u001b[39melif\u001b[39;00m \u001b[39misinstance\u001b[39m(data, ma\u001b[39m.\u001b[39mMaskedArray):\n\u001b[1;32m    735\u001b[0m     \u001b[39mfrom\u001b[39;00m \u001b[39mnumpy\u001b[39;00m\u001b[39m.\u001b[39;00m\u001b[39mma\u001b[39;00m \u001b[39mimport\u001b[39;00m mrecords\n",
      "File \u001b[0;32m~/Desktop/VS_Code/AdventOfCode2023/.venv/lib/python3.9/site-packages/pandas/core/internals/construction.py:481\u001b[0m, in \u001b[0;36mdict_to_mgr\u001b[0;34m(data, index, columns, dtype, typ, copy)\u001b[0m\n\u001b[1;32m    479\u001b[0m     keys \u001b[39m=\u001b[39m \u001b[39mlist\u001b[39m(data\u001b[39m.\u001b[39mkeys())\n\u001b[1;32m    480\u001b[0m     columns \u001b[39m=\u001b[39m Index(keys) \u001b[39mif\u001b[39;00m keys \u001b[39melse\u001b[39;00m default_index(\u001b[39m0\u001b[39m)\n\u001b[0;32m--> 481\u001b[0m     arrays \u001b[39m=\u001b[39m [com\u001b[39m.\u001b[39mmaybe_iterable_to_list(data[k]) \u001b[39mfor\u001b[39;00m k \u001b[39min\u001b[39;00m keys]\n\u001b[1;32m    483\u001b[0m \u001b[39mif\u001b[39;00m copy:\n\u001b[1;32m    484\u001b[0m     \u001b[39mif\u001b[39;00m typ \u001b[39m==\u001b[39m \u001b[39m\"\u001b[39m\u001b[39mblock\u001b[39m\u001b[39m\"\u001b[39m:\n\u001b[1;32m    485\u001b[0m         \u001b[39m# We only need to copy arrays that will not get consolidated, i.e.\u001b[39;00m\n\u001b[1;32m    486\u001b[0m         \u001b[39m#  only EA arrays\u001b[39;00m\n",
      "File \u001b[0;32m~/Desktop/VS_Code/AdventOfCode2023/.venv/lib/python3.9/site-packages/pandas/core/internals/construction.py:481\u001b[0m, in \u001b[0;36m<listcomp>\u001b[0;34m(.0)\u001b[0m\n\u001b[1;32m    479\u001b[0m     keys \u001b[39m=\u001b[39m \u001b[39mlist\u001b[39m(data\u001b[39m.\u001b[39mkeys())\n\u001b[1;32m    480\u001b[0m     columns \u001b[39m=\u001b[39m Index(keys) \u001b[39mif\u001b[39;00m keys \u001b[39melse\u001b[39;00m default_index(\u001b[39m0\u001b[39m)\n\u001b[0;32m--> 481\u001b[0m     arrays \u001b[39m=\u001b[39m [com\u001b[39m.\u001b[39;49mmaybe_iterable_to_list(data[k]) \u001b[39mfor\u001b[39;00m k \u001b[39min\u001b[39;00m keys]\n\u001b[1;32m    483\u001b[0m \u001b[39mif\u001b[39;00m copy:\n\u001b[1;32m    484\u001b[0m     \u001b[39mif\u001b[39;00m typ \u001b[39m==\u001b[39m \u001b[39m\"\u001b[39m\u001b[39mblock\u001b[39m\u001b[39m\"\u001b[39m:\n\u001b[1;32m    485\u001b[0m         \u001b[39m# We only need to copy arrays that will not get consolidated, i.e.\u001b[39;00m\n\u001b[1;32m    486\u001b[0m         \u001b[39m#  only EA arrays\u001b[39;00m\n",
      "File \u001b[0;32m~/Desktop/VS_Code/AdventOfCode2023/.venv/lib/python3.9/site-packages/pandas/core/common.py:301\u001b[0m, in \u001b[0;36mmaybe_iterable_to_list\u001b[0;34m(obj)\u001b[0m\n\u001b[1;32m    297\u001b[0m \u001b[39m\u001b[39m\u001b[39m\"\"\"\u001b[39;00m\n\u001b[1;32m    298\u001b[0m \u001b[39mIf obj is Iterable but not list-like, consume into list.\u001b[39;00m\n\u001b[1;32m    299\u001b[0m \u001b[39m\"\"\"\u001b[39;00m\n\u001b[1;32m    300\u001b[0m \u001b[39mif\u001b[39;00m \u001b[39misinstance\u001b[39m(obj, abc\u001b[39m.\u001b[39mIterable) \u001b[39mand\u001b[39;00m \u001b[39mnot\u001b[39;00m \u001b[39misinstance\u001b[39m(obj, abc\u001b[39m.\u001b[39mSized):\n\u001b[0;32m--> 301\u001b[0m     \u001b[39mreturn\u001b[39;00m \u001b[39mlist\u001b[39;49m(obj)\n\u001b[1;32m    302\u001b[0m obj \u001b[39m=\u001b[39m cast(Collection, obj)\n\u001b[1;32m    303\u001b[0m \u001b[39mreturn\u001b[39;00m obj\n",
      "\u001b[1;32m/Users/andresterrer/Desktop/VS_Code/AdventOfCode2023/AdventofCode.ipynb Cell 58\u001b[0m line \u001b[0;36m7\n\u001b[1;32m      <a href='vscode-notebook-cell:/Users/andresterrer/Desktop/VS_Code/AdventOfCode2023/AdventofCode.ipynb#Y130sZmlsZQ%3D%3D?line=1'>2</a>\u001b[0m seed_list2 \u001b[39m=\u001b[39m \u001b[39mrange\u001b[39m(sr[\u001b[39m0\u001b[39m], sr[\u001b[39m1\u001b[39m], \u001b[39m1\u001b[39m)\n\u001b[1;32m      <a href='vscode-notebook-cell:/Users/andresterrer/Desktop/VS_Code/AdventOfCode2023/AdventofCode.ipynb#Y130sZmlsZQ%3D%3D?line=3'>4</a>\u001b[0m soil_list \u001b[39m=\u001b[39m \u001b[39mmap\u001b[39m(\u001b[39mlambda\u001b[39;00m x: mapSourceToDestination(seed_to_soil, x), seed_list2)\n\u001b[1;32m      <a href='vscode-notebook-cell:/Users/andresterrer/Desktop/VS_Code/AdventOfCode2023/AdventofCode.ipynb#Y130sZmlsZQ%3D%3D?line=5'>6</a>\u001b[0m fertilizer_list \u001b[39m=\u001b[39m \u001b[39mmap\u001b[39m(\n\u001b[0;32m----> <a href='vscode-notebook-cell:/Users/andresterrer/Desktop/VS_Code/AdventOfCode2023/AdventofCode.ipynb#Y130sZmlsZQ%3D%3D?line=6'>7</a>\u001b[0m     \u001b[39mlambda\u001b[39;00m x: mapSourceToDestination(soil_to_fertilizer, x), soil_list\n\u001b[1;32m      <a href='vscode-notebook-cell:/Users/andresterrer/Desktop/VS_Code/AdventOfCode2023/AdventofCode.ipynb#Y130sZmlsZQ%3D%3D?line=7'>8</a>\u001b[0m )\n\u001b[1;32m     <a href='vscode-notebook-cell:/Users/andresterrer/Desktop/VS_Code/AdventOfCode2023/AdventofCode.ipynb#Y130sZmlsZQ%3D%3D?line=9'>10</a>\u001b[0m water_list \u001b[39m=\u001b[39m \u001b[39mmap\u001b[39m(\n\u001b[1;32m     <a href='vscode-notebook-cell:/Users/andresterrer/Desktop/VS_Code/AdventOfCode2023/AdventofCode.ipynb#Y130sZmlsZQ%3D%3D?line=10'>11</a>\u001b[0m     \u001b[39mlambda\u001b[39;00m x: mapSourceToDestination(fertilizer_to_water, x), fertilizer_list\n\u001b[1;32m     <a href='vscode-notebook-cell:/Users/andresterrer/Desktop/VS_Code/AdventOfCode2023/AdventofCode.ipynb#Y130sZmlsZQ%3D%3D?line=11'>12</a>\u001b[0m )\n\u001b[1;32m     <a href='vscode-notebook-cell:/Users/andresterrer/Desktop/VS_Code/AdventOfCode2023/AdventofCode.ipynb#Y130sZmlsZQ%3D%3D?line=13'>14</a>\u001b[0m ligth_list \u001b[39m=\u001b[39m \u001b[39mmap\u001b[39m(\u001b[39mlambda\u001b[39;00m x: mapSourceToDestination(water_to_light, x), water_list)\n",
      "\u001b[1;32m/Users/andresterrer/Desktop/VS_Code/AdventOfCode2023/AdventofCode.ipynb Cell 58\u001b[0m line \u001b[0;36m4\n\u001b[1;32m     <a href='vscode-notebook-cell:/Users/andresterrer/Desktop/VS_Code/AdventOfCode2023/AdventofCode.ipynb#Y130sZmlsZQ%3D%3D?line=36'>37</a>\u001b[0m destination_num \u001b[39m=\u001b[39m source_num\n\u001b[1;32m     <a href='vscode-notebook-cell:/Users/andresterrer/Desktop/VS_Code/AdventOfCode2023/AdventofCode.ipynb#Y130sZmlsZQ%3D%3D?line=38'>39</a>\u001b[0m \u001b[39mfor\u001b[39;00m row \u001b[39min\u001b[39;00m df\u001b[39m.\u001b[39mindex:\n\u001b[0;32m---> <a href='vscode-notebook-cell:/Users/andresterrer/Desktop/VS_Code/AdventOfCode2023/AdventofCode.ipynb#Y130sZmlsZQ%3D%3D?line=39'>40</a>\u001b[0m     dest_r_start \u001b[39m=\u001b[39m df\u001b[39m.\u001b[39;49miloc[row]\u001b[39m.\u001b[39miloc[\u001b[39m0\u001b[39m]\n\u001b[1;32m     <a href='vscode-notebook-cell:/Users/andresterrer/Desktop/VS_Code/AdventOfCode2023/AdventofCode.ipynb#Y130sZmlsZQ%3D%3D?line=40'>41</a>\u001b[0m     source_r_start \u001b[39m=\u001b[39m df\u001b[39m.\u001b[39miloc[row]\u001b[39m.\u001b[39miloc[\u001b[39m1\u001b[39m]\n\u001b[1;32m     <a href='vscode-notebook-cell:/Users/andresterrer/Desktop/VS_Code/AdventOfCode2023/AdventofCode.ipynb#Y130sZmlsZQ%3D%3D?line=41'>42</a>\u001b[0m     r_length \u001b[39m=\u001b[39m df\u001b[39m.\u001b[39miloc[row]\u001b[39m.\u001b[39miloc[\u001b[39m2\u001b[39m]\n",
      "File \u001b[0;32m~/Desktop/VS_Code/AdventOfCode2023/.venv/lib/python3.9/site-packages/pandas/core/indexing.py:1153\u001b[0m, in \u001b[0;36m_LocationIndexer.__getitem__\u001b[0;34m(self, key)\u001b[0m\n\u001b[1;32m   1150\u001b[0m axis \u001b[39m=\u001b[39m \u001b[39mself\u001b[39m\u001b[39m.\u001b[39maxis \u001b[39mor\u001b[39;00m \u001b[39m0\u001b[39m\n\u001b[1;32m   1152\u001b[0m maybe_callable \u001b[39m=\u001b[39m com\u001b[39m.\u001b[39mapply_if_callable(key, \u001b[39mself\u001b[39m\u001b[39m.\u001b[39mobj)\n\u001b[0;32m-> 1153\u001b[0m \u001b[39mreturn\u001b[39;00m \u001b[39mself\u001b[39;49m\u001b[39m.\u001b[39;49m_getitem_axis(maybe_callable, axis\u001b[39m=\u001b[39;49maxis)\n",
      "File \u001b[0;32m~/Desktop/VS_Code/AdventOfCode2023/.venv/lib/python3.9/site-packages/pandas/core/indexing.py:1716\u001b[0m, in \u001b[0;36m_iLocIndexer._getitem_axis\u001b[0;34m(self, key, axis)\u001b[0m\n\u001b[1;32m   1713\u001b[0m \u001b[39m# validate the location\u001b[39;00m\n\u001b[1;32m   1714\u001b[0m \u001b[39mself\u001b[39m\u001b[39m.\u001b[39m_validate_integer(key, axis)\n\u001b[0;32m-> 1716\u001b[0m \u001b[39mreturn\u001b[39;00m \u001b[39mself\u001b[39;49m\u001b[39m.\u001b[39;49mobj\u001b[39m.\u001b[39;49m_ixs(key, axis\u001b[39m=\u001b[39;49maxis)\n",
      "File \u001b[0;32m~/Desktop/VS_Code/AdventOfCode2023/.venv/lib/python3.9/site-packages/pandas/core/frame.py:3789\u001b[0m, in \u001b[0;36mDataFrame._ixs\u001b[0;34m(self, i, axis)\u001b[0m\n\u001b[1;32m   3787\u001b[0m \u001b[39m# irow\u001b[39;00m\n\u001b[1;32m   3788\u001b[0m \u001b[39mif\u001b[39;00m axis \u001b[39m==\u001b[39m \u001b[39m0\u001b[39m:\n\u001b[0;32m-> 3789\u001b[0m     new_mgr \u001b[39m=\u001b[39m \u001b[39mself\u001b[39;49m\u001b[39m.\u001b[39;49m_mgr\u001b[39m.\u001b[39;49mfast_xs(i)\n\u001b[1;32m   3791\u001b[0m     \u001b[39m# if we are a copy, mark as such\u001b[39;00m\n\u001b[1;32m   3792\u001b[0m     copy \u001b[39m=\u001b[39m \u001b[39misinstance\u001b[39m(new_mgr\u001b[39m.\u001b[39marray, np\u001b[39m.\u001b[39mndarray) \u001b[39mand\u001b[39;00m new_mgr\u001b[39m.\u001b[39marray\u001b[39m.\u001b[39mbase \u001b[39mis\u001b[39;00m \u001b[39mNone\u001b[39;00m\n",
      "File \u001b[0;32m~/Desktop/VS_Code/AdventOfCode2023/.venv/lib/python3.9/site-packages/pandas/core/internals/managers.py:959\u001b[0m, in \u001b[0;36mBlockManager.fast_xs\u001b[0;34m(self, loc)\u001b[0m\n\u001b[1;32m    957\u001b[0m     \u001b[39m# in the case of a single block, the new block is a view\u001b[39;00m\n\u001b[1;32m    958\u001b[0m     bp \u001b[39m=\u001b[39m BlockPlacement(\u001b[39mslice\u001b[39m(\u001b[39m0\u001b[39m, \u001b[39mlen\u001b[39m(result)))\n\u001b[0;32m--> 959\u001b[0m     block \u001b[39m=\u001b[39m new_block(\n\u001b[1;32m    960\u001b[0m         result,\n\u001b[1;32m    961\u001b[0m         placement\u001b[39m=\u001b[39;49mbp,\n\u001b[1;32m    962\u001b[0m         ndim\u001b[39m=\u001b[39;49m\u001b[39m1\u001b[39;49m,\n\u001b[1;32m    963\u001b[0m         refs\u001b[39m=\u001b[39;49m\u001b[39mself\u001b[39;49m\u001b[39m.\u001b[39;49mblocks[\u001b[39m0\u001b[39;49m]\u001b[39m.\u001b[39;49mrefs,\n\u001b[1;32m    964\u001b[0m     )\n\u001b[1;32m    965\u001b[0m     \u001b[39mreturn\u001b[39;00m SingleBlockManager(block, \u001b[39mself\u001b[39m\u001b[39m.\u001b[39maxes[\u001b[39m0\u001b[39m])\n\u001b[1;32m    967\u001b[0m dtype \u001b[39m=\u001b[39m interleaved_dtype([blk\u001b[39m.\u001b[39mdtype \u001b[39mfor\u001b[39;00m blk \u001b[39min\u001b[39;00m \u001b[39mself\u001b[39m\u001b[39m.\u001b[39mblocks])\n",
      "File \u001b[0;32m~/Desktop/VS_Code/AdventOfCode2023/.venv/lib/python3.9/site-packages/pandas/core/internals/blocks.py:2400\u001b[0m, in \u001b[0;36mnew_block\u001b[0;34m(values, placement, ndim, refs)\u001b[0m\n\u001b[1;32m   2388\u001b[0m \u001b[39mdef\u001b[39;00m \u001b[39mnew_block\u001b[39m(\n\u001b[1;32m   2389\u001b[0m     values,\n\u001b[1;32m   2390\u001b[0m     placement: BlockPlacement,\n\u001b[0;32m   (...)\u001b[0m\n\u001b[1;32m   2397\u001b[0m     \u001b[39m# - check_ndim/ensure_block_shape already checked\u001b[39;00m\n\u001b[1;32m   2398\u001b[0m     \u001b[39m# - maybe_coerce_values already called/unnecessary\u001b[39;00m\n\u001b[1;32m   2399\u001b[0m     klass \u001b[39m=\u001b[39m get_block_type(values\u001b[39m.\u001b[39mdtype)\n\u001b[0;32m-> 2400\u001b[0m     \u001b[39mreturn\u001b[39;00m klass(values, ndim\u001b[39m=\u001b[39;49mndim, placement\u001b[39m=\u001b[39;49mplacement, refs\u001b[39m=\u001b[39;49mrefs)\n",
      "\u001b[0;31mKeyboardInterrupt\u001b[0m: "
     ]
    }
   ],
   "source": [
    "for sr in [seed_ranges[1]]:\n",
    "    seed_list2 = range(sr[0], sr[1], 1)\n",
    "\n",
    "    soil_list = map(lambda x: mapSourceToDestination(seed_to_soil, x), seed_list2)\n",
    "\n",
    "    fertilizer_list = map(\n",
    "        lambda x: mapSourceToDestination(soil_to_fertilizer, x), soil_list\n",
    "    )\n",
    "\n",
    "    water_list = map(\n",
    "        lambda x: mapSourceToDestination(fertilizer_to_water, x), fertilizer_list\n",
    "    )\n",
    "\n",
    "    ligth_list = map(lambda x: mapSourceToDestination(water_to_light, x), water_list)\n",
    "\n",
    "    temperature_list = map(\n",
    "        lambda x: mapSourceToDestination(light_to_temperature, x), ligth_list\n",
    "    )\n",
    "\n",
    "    humidity_list = map(\n",
    "        lambda x: mapSourceToDestination(temperature_to_humidity, x), temperature_list\n",
    "    )\n",
    "\n",
    "    location_list = map(\n",
    "        lambda x: mapSourceToDestination(humidity_to_location, x), humidity_list\n",
    "    )\n",
    "\n",
    "    seed_to_location = pd.DataFrame(\n",
    "        {\n",
    "            \"seed\": seed_list,\n",
    "            \"location\": location_list,\n",
    "        }\n",
    "    )\n",
    "seed_to_location"
   ]
  },
  {
   "cell_type": "markdown",
   "metadata": {},
   "source": []
  }
 ],
 "metadata": {
  "kernelspec": {
   "display_name": ".venv",
   "language": "python",
   "name": "python3"
  },
  "language_info": {
   "codemirror_mode": {
    "name": "ipython",
    "version": 3
   },
   "file_extension": ".py",
   "mimetype": "text/x-python",
   "name": "python",
   "nbconvert_exporter": "python",
   "pygments_lexer": "ipython3",
   "version": "3.9.18"
  },
  "orig_nbformat": 4
 },
 "nbformat": 4,
 "nbformat_minor": 2
}
