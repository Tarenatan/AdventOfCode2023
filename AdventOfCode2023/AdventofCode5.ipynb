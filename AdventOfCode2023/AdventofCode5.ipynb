{
 "cells": [
  {
   "cell_type": "markdown",
   "metadata": {},
   "source": [
    "--- Day 20: Pulse Propagation ---\n",
    "With your help, the Elves manage to find the right parts and fix all of the machines. Now, they just need to send the command to boot up the machines and get the sand flowing again.\n",
    "\n",
    "The machines are far apart and wired together with long cables. The cables don't connect to the machines directly, but rather to communication modules attached to the machines that perform various initialization tasks and also act as communication relays.\n",
    "\n",
    "Modules communicate using pulses. Each pulse is either a high pulse or a low pulse. When a module sends a pulse, it sends that type of pulse to each module in its list of destination modules.\n",
    "\n",
    "There are several different types of modules:\n",
    "\n",
    "Flip-flop modules (prefix %) are either on or off; they are initially off. If a flip-flop module receives a high pulse, it is ignored and nothing happens. However, if a flip-flop module receives a low pulse, it flips between on and off. If it was off, it turns on and sends a high pulse. If it was on, it turns off and sends a low pulse.\n",
    "\n",
    "Conjunction modules (prefix &) remember the type of the most recent pulse received from each of their connected input modules; they initially default to remembering a low pulse for each input. When a pulse is received, the conjunction module first updates its memory for that input. Then, if it remembers high pulses for all inputs, it sends a low pulse; otherwise, it sends a high pulse.\n",
    "\n",
    "There is a single broadcast module (named broadcaster). When it receives a pulse, it sends the same pulse to all of its destination modules.\n",
    "\n",
    "Here at Desert Machine Headquarters, there is a module with a single button on it called, aptly, the button module. When you push the button, a single low pulse is sent directly to the broadcaster module.\n",
    "\n",
    "After pushing the button, you must wait until all pulses have been delivered and fully handled before pushing it again. Never push the button if modules are still processing pulses.\n",
    "\n",
    "Pulses are always processed in the order they are sent. So, if a pulse is sent to modules a, b, and c, and then module a processes its pulse and sends more pulses, the pulses sent to modules b and c would have to be handled first.\n",
    "\n",
    "The module configuration (your puzzle input) lists each module. The name of the module is preceded by a symbol identifying its type, if any. The name is then followed by an arrow and a list of its destination modules. For example:\n",
    "\n",
    "broadcaster -> a, b, c\n",
    "%a -> b\n",
    "%b -> c\n",
    "%c -> inv\n",
    "&inv -> a\n",
    "In this module configuration, the broadcaster has three destination modules named a, b, and c. Each of these modules is a flip-flop module (as indicated by the % prefix). a outputs to b which outputs to c which outputs to another module named inv. inv is a conjunction module (as indicated by the & prefix) which, because it has only one input, acts like an inverter (it sends the opposite of the pulse type it receives); it outputs to a.\n",
    "\n",
    "By pushing the button once, the following pulses are sent:\n",
    "\n",
    "button -low-> broadcaster\n",
    "broadcaster -low-> a\n",
    "broadcaster -low-> b\n",
    "broadcaster -low-> c\n",
    "a -high-> b\n",
    "b -high-> c\n",
    "c -high-> inv\n",
    "inv -low-> a\n",
    "a -low-> b\n",
    "b -low-> c\n",
    "c -low-> inv\n",
    "inv -high-> a\n",
    "After this sequence, the flip-flop modules all end up off, so pushing the button again repeats the same sequence.\n",
    "\n",
    "Here's a more interesting example:\n",
    "\n",
    "broadcaster -> a\n",
    "%a -> inv, con\n",
    "&inv -> b\n",
    "%b -> con\n",
    "&con -> output\n",
    "This module configuration includes the broadcaster, two flip-flops (named a and b), a single-input conjunction module (inv), a multi-input conjunction module (con), and an untyped module named output (for testing purposes). The multi-input conjunction module con watches the two flip-flop modules and, if they're both on, sends a low pulse to the output module.\n",
    "\n",
    "Here's what happens if you push the button once:\n",
    "\n",
    "button -low-> broadcaster\n",
    "broadcaster -low-> a\n",
    "a -high-> inv\n",
    "a -high-> con\n",
    "inv -low-> b\n",
    "con -high-> output\n",
    "b -high-> con\n",
    "con -low-> output\n",
    "Both flip-flops turn on and a low pulse is sent to output! However, now that both flip-flops are on and con remembers a high pulse from each of its two inputs, pushing the button a second time does something different:\n",
    "\n",
    "button -low-> broadcaster\n",
    "broadcaster -low-> a\n",
    "a -low-> inv\n",
    "a -low-> con\n",
    "inv -high-> b\n",
    "con -high-> output\n",
    "Flip-flop a turns off! Now, con remembers a low pulse from module a, and so it sends only a high pulse to output.\n",
    "\n",
    "Push the button a third time:\n",
    "\n",
    "button -low-> broadcaster\n",
    "broadcaster -low-> a\n",
    "a -high-> inv\n",
    "a -high-> con\n",
    "inv -low-> b\n",
    "con -low-> output\n",
    "b -low-> con\n",
    "con -high-> output\n",
    "This time, flip-flop a turns on, then flip-flop b turns off. However, before b can turn off, the pulse sent to con is handled first, so it briefly remembers all high pulses for its inputs and sends a low pulse to output. After that, flip-flop b turns off, which causes con to update its state and send a high pulse to output.\n",
    "\n",
    "Finally, with a on and b off, push the button a fourth time:\n",
    "\n",
    "button -low-> broadcaster\n",
    "broadcaster -low-> a\n",
    "a -low-> inv\n",
    "a -low-> con\n",
    "inv -high-> b\n",
    "con -high-> output\n",
    "This completes the cycle: a turns off, causing con to remember only low pulses and restoring all modules to their original states.\n",
    "\n",
    "To get the cables warmed up, the Elves have pushed the button 1000 times. How many pulses got sent as a result (including the pulses sent by the button itself)?\n",
    "\n",
    "In the first example, the same thing happens every time the button is pushed: 8 low pulses and 4 high pulses are sent. So, after pushing the button 1000 times, 8000 low pulses and 4000 high pulses are sent. Multiplying these together gives 32000000.\n",
    "\n",
    "In the second example, after pushing the button 1000 times, 4250 low pulses and 2750 high pulses are sent. Multiplying these together gives 11687500.\n",
    "\n",
    "Consult your module configuration; determine the number of low pulses and high pulses that would be sent after pushing the button 1000 times, waiting for all pulses to be fully handled after each push of the button. What do you get if you multiply the total number of low pulses sent by the total number of high pulses sent?"
   ]
  },
  {
   "cell_type": "code",
   "execution_count": 2,
   "metadata": {},
   "outputs": [
    {
     "data": {
      "text/plain": [
       "['broadcaster -> a, b, c', '%a -> b', '%b -> c', '%c -> inv', '&inv -> a']"
      ]
     },
     "execution_count": 2,
     "metadata": {},
     "output_type": "execute_result"
    }
   ],
   "source": [
    "puzzle_input = open(\"./puzzle_inputs/day20test1.txt\").read().split(\"\\n\")\n",
    "puzzle_input"
   ]
  },
  {
   "cell_type": "code",
   "execution_count": 7,
   "metadata": {},
   "outputs": [
    {
     "data": {
      "text/plain": [
       "[('broadcaster', ['a', 'b', 'c']),\n",
       " ('%a', ['b']),\n",
       " ('%b', ['c']),\n",
       " ('%c', ['inv']),\n",
       " ('&inv', ['a'])]"
      ]
     },
     "execution_count": 7,
     "metadata": {},
     "output_type": "execute_result"
    }
   ],
   "source": [
    "statements = []\n",
    "for line in puzzle_input:\n",
    "    statements.append(\n",
    "        (\n",
    "            line.split(\"->\")[0].strip(),\n",
    "            [s.strip() for s in line.split(\"->\")[1].strip().split(\",\")],\n",
    "        )\n",
    "    )\n",
    "\n",
    "statements"
   ]
  },
  {
   "cell_type": "code",
   "execution_count": 8,
   "metadata": {},
   "outputs": [],
   "source": [
    "special_chars = {\n",
    "    \"%\": 0,\n",
    "    \"&\": 1,\n",
    "}"
   ]
  },
  {
   "cell_type": "code",
   "execution_count": 76,
   "metadata": {},
   "outputs": [],
   "source": [
    "# Define classes for all nodes in the network:\n",
    "\n",
    "network = []\n",
    "network_graph = {}\n",
    "\n",
    "\n",
    "class Node:\n",
    "    def __init__(\n",
    "        self, name: str, outputs: list[str], node_type: str, is_on: bool = False\n",
    "    ):\n",
    "        self.name = name\n",
    "        self.dest = outputs\n",
    "        self.node_type = node_type\n",
    "        self.is_on = is_on\n",
    "\n",
    "    def __str__(self) -> str:\n",
    "        message = f\" '{self.name}' -> {self.dest}, type '{self.node_type}', is_on ='{self.is_on}'\"\n",
    "        return message\n",
    "\n",
    "    def sendPulse(self, pulse: str):\n",
    "        for node_name in self.outputs:\n",
    "            network_graph[node_name].recievePulse(pulse)\n",
    "\n",
    "\n",
    "\"\"\" \n",
    "Lets create child classes for Flipflops and Conjunctions.\n",
    "\"\"\"\n",
    "\n",
    "\n",
    "class FlipFlop(Node):\n",
    "    def __init__(\n",
    "        self,\n",
    "        name: str,\n",
    "        outputs: list[str],\n",
    "        node_type: str = \"%\",\n",
    "        is_on: bool = False,\n",
    "    ):\n",
    "        if node_type != \"%\":\n",
    "            raise Exception(f\"Incorrect typing for the FlipFlop node '{self.name}'\")\n",
    "\n",
    "        super().__init__(name, outputs, node_type, is_on)\n",
    "\n",
    "    def recievePulse(self, pulse: str):\n",
    "        \"\"\"\n",
    "        If a flip-flop module receives a high pulse, it is ignored and nothing happens.\n",
    "        However, if a flip-flop module receives a low pulse, it flips between on and off.\n",
    "\n",
    "        If it was off, it turns on and sends a high pulse.\n",
    "        If it was on, it turns off and sends a low pulse.\n",
    "        \"\"\"\n",
    "\n",
    "        if pulse == \"High\":\n",
    "            return\n",
    "\n",
    "        # Send a pulse to outputs\n",
    "        if self.is_on:\n",
    "            for node_name in self.outputs:\n",
    "                network[node_name].recievePulse(pulse=\"High\")\n",
    "\n",
    "        else:\n",
    "            for node_name in self.outputs:\n",
    "                network[node_name].recievePulse(pulse=\"Low\")\n",
    "\n",
    "        # Toggle the node\n",
    "        self.is_on = not self.is_on\n",
    "\n",
    "    def sendPulse(self, pulse: str):\n",
    "        return super().sendPulse(pulse)\n",
    "\n",
    "\n",
    "class Conjunction(Node):\n",
    "    def __init__(\n",
    "        self,\n",
    "        name: str,\n",
    "        outputs: list[str],\n",
    "        inputs: list[str],\n",
    "        input_memory: list[str] = None,\n",
    "        node_type: str = \"&\",\n",
    "        is_on: bool = False,\n",
    "    ):\n",
    "        if node_type != \"&\":\n",
    "            raise Exception(f\"Incorrect typing for the Conjunction node '{self.name}'\")\n",
    "\n",
    "        super().__init__(name, outputs, node_type, is_on)\n",
    "        self.inputs = inputs\n",
    "\n",
    "        if input_memory == None:\n",
    "            self.input_memory = {name: \"Low\" for name in inputs}\n",
    "\n",
    "    def __str__(self) -> str:\n",
    "        return f\"{self.inputs} ->\" + super().__str__()\n",
    "\n",
    "    def sendPulse(self, pulse: str):\n",
    "        return super().sendPulse(pulse)\n",
    "\n",
    "    def recievePulse(self, pulse: str, node_name: str):\n",
    "        \"\"\"\n",
    "        Conjunction modules remember the type of the most recent pulse received from each of their connected input\n",
    "        modules; they initially default to remembering a low pulse for each input.\n",
    "\n",
    "        When a pulse is received, the conjunction module first updates its memory for that input.\n",
    "        Then, if it remembers high pulses for all inputs, it sends a low pulse; otherwise, it sends a high pulse.\n",
    "        \"\"\"\n",
    "\n",
    "        self.input_memory[node_name] = pulse\n",
    "\n",
    "        if all([pulse == \"High\" for pulse in self.input_memory.values()]):\n",
    "            self.sendPulse(pulse=\"Low\")\n",
    "        else:\n",
    "            self.sendPulse(pulse=\"High\")\n",
    "\n",
    "\n",
    "class Broadcaster(Node):\n",
    "    def __init__(\n",
    "        self, name: str, outputs: list[str], node_type: str = \"b\", is_on: bool = False\n",
    "    ):\n",
    "        super().__init__(name, outputs, node_type, is_on)\n",
    "\n",
    "    def sendPulse(self, pulse: str):\n",
    "        return super().sendPulse(pulse)\n",
    "\n",
    "    def __str__(self):\n",
    "        return \"BROADCASTER\" + super().__str__()"
   ]
  },
  {
   "cell_type": "code",
   "execution_count": 77,
   "metadata": {},
   "outputs": [
    {
     "name": "stdout",
     "output_type": "stream",
     "text": [
      " 'F' -> ['A'], type '%', is_on ='False'\n",
      "['C'] -> 'F' -> ['A'], type '&', is_on ='False'\n",
      "BROADCASTER 'roadcaster' -> ['A', 'B', 'C'], type 'b', is_on ='False'\n"
     ]
    }
   ],
   "source": [
    "print(FlipFlop(name=\"F\", outputs=[\"A\"]))\n",
    "print(Conjunction(name=\"F\", outputs=[\"A\"], inputs=[\"C\"]))\n",
    "print(Broadcaster(name=\"roadcaster\", outputs=[\"A\", \"B\", \"C\"]))"
   ]
  },
  {
   "cell_type": "code",
   "execution_count": 37,
   "metadata": {},
   "outputs": [],
   "source": [
    "# Create the list of nodes according to the rules:\n",
    "network = []\n",
    "for statement in statements:\n",
    "    network.append(\n",
    "        Node(name=statement[0][1:], outputs=statement[1], type=statement[0][0])\n",
    "    )"
   ]
  },
  {
   "cell_type": "code",
   "execution_count": 35,
   "metadata": {},
   "outputs": [
    {
     "name": "stdout",
     "output_type": "stream",
     "text": [
      "Node : 'roadcaster' -> ['a', 'b', 'c'], type 'b', state 'off'\n",
      "Node : 'a' -> ['b'], type '%', state 'off'\n",
      "Node : 'b' -> ['c'], type '%', state 'off'\n",
      "Node : 'c' -> ['inv'], type '%', state 'off'\n",
      "Node : 'inv' -> ['a'], type '&', state 'off'\n"
     ]
    },
    {
     "data": {
      "text/plain": [
       "[None, None, None, None, None]"
      ]
     },
     "execution_count": 35,
     "metadata": {},
     "output_type": "execute_result"
    }
   ],
   "source": [
    "[print(n) for n in network]"
   ]
  },
  {
   "cell_type": "code",
   "execution_count": 20,
   "metadata": {},
   "outputs": [
    {
     "data": {
      "text/plain": [
       "{'roadcaster': ['a', 'b', 'c'],\n",
       " 'a': ['b'],\n",
       " 'b': ['c'],\n",
       " 'c': ['inv'],\n",
       " 'inv': ['a']}"
      ]
     },
     "execution_count": 20,
     "metadata": {},
     "output_type": "execute_result"
    }
   ],
   "source": [
    "network_graph = {n.name: n.dest for n in network}\n",
    "network_graph"
   ]
  },
  {
   "cell_type": "code",
   "execution_count": null,
   "metadata": {},
   "outputs": [],
   "source": []
  }
 ],
 "metadata": {
  "kernelspec": {
   "display_name": ".venv",
   "language": "python",
   "name": "python3"
  },
  "language_info": {
   "codemirror_mode": {
    "name": "ipython",
    "version": 3
   },
   "file_extension": ".py",
   "mimetype": "text/x-python",
   "name": "python",
   "nbconvert_exporter": "python",
   "pygments_lexer": "ipython3",
   "version": "3.9.18"
  },
  "orig_nbformat": 4
 },
 "nbformat": 4,
 "nbformat_minor": 2
}
