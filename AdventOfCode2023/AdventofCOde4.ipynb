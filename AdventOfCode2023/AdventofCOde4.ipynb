{
 "cells": [
  {
   "cell_type": "markdown",
   "metadata": {},
   "source": [
    "--- Day 15: Lens Library ---\n",
    "The newly-focused parabolic reflector dish is sending all of the collected light to a point on the side of yet another mountain - the largest mountain on Lava Island. As you approach the mountain, you find that the light is being collected by the wall of a large facility embedded in the mountainside.\n",
    "\n",
    "You find a door under a large sign that says \"Lava Production Facility\" and next to a smaller sign that says \"Danger - Personal Protective Equipment required beyond this point\".\n",
    "\n",
    "As you step inside, you are immediately greeted by a somewhat panicked reindeer wearing goggles and a loose-fitting hard hat. The reindeer leads you to a shelf of goggles and hard hats (you quickly find some that fit) and then further into the facility. At one point, you pass a button with a faint snout mark and the label \"PUSH FOR HELP\". No wonder you were loaded into that trebuchet so quickly!\n",
    "\n",
    "You pass through a final set of doors surrounded with even more warning signs and into what must be the room that collects all of the light from outside. As you admire the large assortment of lenses available to further focus the light, the reindeer brings you a book titled \"Initialization Manual\".\n",
    "\n",
    "\"Hello!\", the book cheerfully begins, apparently unaware of the concerned reindeer reading over your shoulder. \"This procedure will let you bring the Lava Production Facility online - all without burning or melting anything unintended!\"\n",
    "\n",
    "\"Before you begin, please be prepared to use the Holiday ASCII String Helper algorithm (appendix 1A).\" You turn to appendix 1A. The reindeer leans closer with interest.\n",
    "\n",
    "The HASH algorithm is a way to turn any string of characters into a single number in the range 0 to 255. To run the HASH algorithm on a string, start with a current value of 0. Then, for each character in the string starting from the beginning:\n",
    "\n",
    "Determine the ASCII code for the current character of the string.\n",
    "Increase the current value by the ASCII code you just determined.\n",
    "Set the current value to itself multiplied by 17.\n",
    "Set the current value to the remainder of dividing itself by 256.\n",
    "After following these steps for each character in the string in order, the current value is the output of the HASH algorithm.\n",
    "\n",
    "So, to find the result of running the HASH algorithm on the string HASH:\n",
    "\n",
    "The current value starts at 0.\n",
    "The first character is H; its ASCII code is 72.\n",
    "The current value increases to 72.\n",
    "The current value is multiplied by 17 to become 1224.\n",
    "The current value becomes 200 (the remainder of 1224 divided by 256).\n",
    "The next character is A; its ASCII code is 65.\n",
    "The current value increases to 265.\n",
    "The current value is multiplied by 17 to become 4505.\n",
    "The current value becomes 153 (the remainder of 4505 divided by 256).\n",
    "The next character is S; its ASCII code is 83.\n",
    "The current value increases to 236.\n",
    "The current value is multiplied by 17 to become 4012.\n",
    "The current value becomes 172 (the remainder of 4012 divided by 256).\n",
    "The next character is H; its ASCII code is 72.\n",
    "The current value increases to 244.\n",
    "The current value is multiplied by 17 to become 4148.\n",
    "The current value becomes 52 (the remainder of 4148 divided by 256).\n",
    "So, the result of running the HASH algorithm on the string HASH is 52.\n",
    "\n",
    "The initialization sequence (your puzzle input) is a comma-separated list of steps to start the Lava Production Facility. Ignore newline characters when parsing the initialization sequence. To verify that your HASH algorithm is working, the book offers the sum of the result of running the HASH algorithm on each step in the initialization sequence.\n",
    "\n",
    "For example:\n",
    "\n",
    "rn=1,cm-,qp=3,cm=2,qp-,pc=4,ot=9,ab=5,pc-,pc=6,ot=7\n",
    "This initialization sequence specifies 11 individual steps; the result of running the HASH algorithm on each of the steps is as follows:\n",
    "\n",
    "rn=1 becomes 30.\n",
    "cm- becomes 253.\n",
    "qp=3 becomes 97.\n",
    "cm=2 becomes 47.\n",
    "qp- becomes 14.\n",
    "pc=4 becomes 180.\n",
    "ot=9 becomes 9.\n",
    "ab=5 becomes 197.\n",
    "pc- becomes 48.\n",
    "pc=6 becomes 214.\n",
    "ot=7 becomes 231.\n",
    "In this example, the sum of these results is 1320. Unfortunately, the reindeer has stolen the page containing the expected verification number and is currently running around the facility with it excitedly.\n",
    "\n",
    "Run the HASH algorithm on each step in the initialization sequence. What is the sum of the results? (The initialization sequence is one long line; be careful when copy-pasting it.)\n",
    "\n"
   ]
  },
  {
   "cell_type": "code",
   "execution_count": 1,
   "metadata": {},
   "outputs": [],
   "source": [
    "# Libraries\n",
    "\n",
    "# Custom Functions\n",
    "\n"
   ]
  },
  {
   "cell_type": "code",
   "execution_count": 12,
   "metadata": {},
   "outputs": [
    {
     "data": {
      "text/plain": [
       "['rn=1', 'cm-', 'qp=3', 'cm=2']"
      ]
     },
     "execution_count": 12,
     "metadata": {},
     "output_type": "execute_result"
    }
   ],
   "source": [
    "# TEST\n",
    "puzzle_input = open(\"./puzzle_inputs/day15test.txt\").read()\n",
    "step_list = puzzle_input.split(\",\")\n",
    "step_list[0:4]"
   ]
  },
  {
   "cell_type": "code",
   "execution_count": 8,
   "metadata": {},
   "outputs": [],
   "source": [
    "# HASH algorithm:\n",
    "\n",
    "\"\"\" \n",
    "start at current_value = 0\n",
    "For every character in the string:\n",
    "    get the ascii code number and increase the current_value by that (tricky)\n",
    "    multiply by 17\n",
    "    current_value = current_value % 256 (remainder)\n",
    "\n",
    "\"\"\"\n",
    "\n",
    "def ComputeStep(cv:int, s:str) -> int:\n",
    "    \"\"\"\n",
    "    Given a current_value, update it and return the algorithm step given by the next character\n",
    "    \"\"\"\n",
    "\n",
    "    ascii_value = ord(s)\n",
    "    answer = ((cv + ascii_value ) * 17 ) % 256\n",
    "\n",
    "    return answer\n",
    "\n",
    "def ComputeHash(chain: str)-> int:\n",
    "    \"\"\" \n",
    "    Get the hash value of a sequence of characters\n",
    "    \"\"\"\n",
    "\n",
    "    current_value = 0\n",
    "\n",
    "    for char in chain:\n",
    "        current_value = ComputeStep(current_value, char)\n",
    "\n",
    "    return current_value\n",
    "\n"
   ]
  },
  {
   "cell_type": "code",
   "execution_count": 14,
   "metadata": {},
   "outputs": [
    {
     "name": "stdout",
     "output_type": "stream",
     "text": [
      "[30, 253, 97, 47]\n",
      "Sum:  1320\n"
     ]
    }
   ],
   "source": [
    "# Results:\n",
    "hash_list = [ComputeHash(s) for s in step_list]\n",
    "print(hash_list[0:4])\n",
    "# Add up all the resutls:\n",
    "print(\"Sum: \",sum(hash_list))"
   ]
  },
  {
   "cell_type": "code",
   "execution_count": 16,
   "metadata": {},
   "outputs": [
    {
     "name": "stdout",
     "output_type": "stream",
     "text": [
      "Sum:  497373\n"
     ]
    }
   ],
   "source": [
    "# All the input:\n",
    "puzzle_input = open(\"./puzzle_inputs/day15.txt\").read()\n",
    "step_list = puzzle_input.split(\",\")\n",
    "\n",
    "hash_list = [ComputeHash(s) for s in step_list]\n",
    "# Add up all the resutls:\n",
    "print(\"Sum: \",sum(hash_list))\n"
   ]
  },
  {
   "cell_type": "markdown",
   "metadata": {},
   "source": [
    "--- Part Two ---\n",
    "You convince the reindeer to bring you the page; the page confirms that your HASH algorithm is working.\n",
    "\n",
    "The book goes on to describe a series of 256 boxes numbered 0 through 255. The boxes are arranged in a line starting from the point where light enters the facility. The boxes have holes that allow light to pass from one box to the next all the way down the line.\n",
    "\n",
    "      +-----+  +-----+         +-----+\n",
    "Light | Box |  | Box |   ...   | Box |\n",
    "----------------------------------------->\n",
    "      |  0  |  |  1  |   ...   | 255 |\n",
    "      +-----+  +-----+         +-----+\n",
    "Inside each box, there are several lens slots that will keep a lens correctly positioned to focus light passing through the box. The side of each box has a panel that opens to allow you to insert or remove lenses as necessary.\n",
    "\n",
    "Along the wall running parallel to the boxes is a large library containing lenses organized by focal length ranging from 1 through 9. The reindeer also brings you a small handheld label printer.\n",
    "\n",
    "The book goes on to explain how to perform each step in the initialization sequence, a process it calls the Holiday ASCII String Helper Manual Arrangement Procedure, or HASHMAP for short.\n",
    "\n",
    "Each step begins with a sequence of letters that indicate the label of the lens on which the step operates. The result of running the HASH algorithm on the label indicates the correct box for that step.\n",
    "\n",
    "The label will be immediately followed by a character that indicates the operation to perform: either an equals sign (=) or a dash (-).\n",
    "\n",
    "If the operation character is a dash (-), go to the relevant box and remove the lens with the given label if it is present in the box. Then, move any remaining lenses as far forward in the box as they can go without changing their order, filling any space made by removing the indicated lens. (If no lens in that box has the given label, nothing happens.)\n",
    "\n",
    "If the operation character is an equals sign (=), it will be followed by a number indicating the focal length of the lens that needs to go into the relevant box; be sure to use the label maker to mark the lens with the label given in the beginning of the step so you can find it later. There are two possible situations:\n",
    "\n",
    "If there is already a lens in the box with the same label, replace the old lens with the new lens: remove the old lens and put the new lens in its place, not moving any other lenses in the box.\n",
    "If there is not already a lens in the box with the same label, add the lens to the box immediately behind any lenses already in the box. Don't move any of the other lenses when you do this. If there aren't any lenses in the box, the new lens goes all the way to the front of the box.\n",
    "Here is the contents of every box after each step in the example initialization sequence above:\n",
    "\n",
    "After \"rn=1\":\n",
    "Box 0: [rn 1]\n",
    "\n",
    "After \"cm-\":\n",
    "Box 0: [rn 1]\n",
    "\n",
    "After \"qp=3\":\n",
    "Box 0: [rn 1]\n",
    "Box 1: [qp 3]\n",
    "\n",
    "After \"cm=2\":\n",
    "Box 0: [rn 1] [cm 2]\n",
    "Box 1: [qp 3]\n",
    "\n",
    "After \"qp-\":\n",
    "Box 0: [rn 1] [cm 2]\n",
    "\n",
    "After \"pc=4\":\n",
    "Box 0: [rn 1] [cm 2]\n",
    "Box 3: [pc 4]\n",
    "\n",
    "After \"ot=9\":\n",
    "Box 0: [rn 1] [cm 2]\n",
    "Box 3: [pc 4] [ot 9]\n",
    "\n",
    "After \"ab=5\":\n",
    "Box 0: [rn 1] [cm 2]\n",
    "Box 3: [pc 4] [ot 9] [ab 5]\n",
    "\n",
    "After \"pc-\":\n",
    "Box 0: [rn 1] [cm 2]\n",
    "Box 3: [ot 9] [ab 5]\n",
    "\n",
    "After \"pc=6\":\n",
    "Box 0: [rn 1] [cm 2]\n",
    "Box 3: [ot 9] [ab 5] [pc 6]\n",
    "\n",
    "After \"ot=7\":\n",
    "Box 0: [rn 1] [cm 2]\n",
    "Box 3: [ot 7] [ab 5] [pc 6]\n",
    "All 256 boxes are always present; only the boxes that contain any lenses are shown here. Within each box, lenses are listed from front to back; each lens is shown as its label and focal length in square brackets.\n",
    "\n",
    "To confirm that all of the lenses are installed correctly, add up the focusing power of all of the lenses. The focusing power of a single lens is the result of multiplying together:\n",
    "\n",
    "One plus the box number of the lens in question.\n",
    "The slot number of the lens within the box: 1 for the first lens, 2 for the second lens, and so on.\n",
    "The focal length of the lens.\n",
    "At the end of the above example, the focusing power of each lens is as follows:\n",
    "\n",
    "rn: 1 (box 0) * 1 (first slot) * 1 (focal length) = 1\n",
    "cm: 1 (box 0) * 2 (second slot) * 2 (focal length) = 4\n",
    "ot: 4 (box 3) * 1 (first slot) * 7 (focal length) = 28\n",
    "ab: 4 (box 3) * 2 (second slot) * 5 (focal length) = 40\n",
    "pc: 4 (box 3) * 3 (third slot) * 6 (focal length) = 72\n",
    "So, the above example ends up with a total focusing power of 145.\n",
    "\n",
    "With the help of an over-enthusiastic reindeer in a hard hat, follow the initialization sequence. What is the focusing power of the resulting lens configuration?"
   ]
  },
  {
   "cell_type": "code",
   "execution_count": null,
   "metadata": {},
   "outputs": [],
   "source": [
    "\"\"\"  \n",
    "We now have to think about the problem differently, It will be nice to separate the sequence\n",
    "by having the step and the number before the sign in a class object\n",
    "\"\"\""
   ]
  },
  {
   "cell_type": "code",
   "execution_count": 38,
   "metadata": {},
   "outputs": [
    {
     "data": {
      "text/plain": [
       "[InitStep(label='rn', symbol='=', focal_length=1),\n",
       " InitStep(label='cm', symbol='-', focal_length=None),\n",
       " InitStep(label='qp', symbol='=', focal_length=3)]"
      ]
     },
     "execution_count": 38,
     "metadata": {},
     "output_type": "execute_result"
    }
   ],
   "source": [
    "from dataclasses import dataclass\n",
    "from typing import Union\n",
    "\n",
    "@dataclass\n",
    "class InitStep:\n",
    "    label: str\n",
    "    symbol: str # Either \"=\"\" or \"-\"\n",
    "    focal_length: Union[int,None] = None # If symbol is \"-\" we remove a lense and there is not a focal length\n",
    "\n",
    "# This procedure talks about Boxes and Lenses, a box is just a list of lenses and a lense has a label and a focal_length:\n",
    "\n",
    "\n",
    "# Parse the input into a list of this objects:\n",
    "puzzle_input = open(\"./puzzle_inputs/day15test.txt\").read()\n",
    "input_list = puzzle_input.split(\",\")\n",
    "\n",
    "step_list = []\n",
    "for s in input_list:\n",
    "\n",
    "    if \"=\" in s:\n",
    "        symbol = \"=\"\n",
    "        focal_length = int(s.split(\"=\")[1])\n",
    "        label = s.split(\"=\")[0]\n",
    "\n",
    "    elif \"-\" in s:\n",
    "        symbol = \"-\"\n",
    "        focal_length = None\n",
    "        label = s.split(\"-\")[0]\n",
    "\n",
    "    init_step = InitStep(\n",
    "        label= label,\n",
    "        symbol = symbol,\n",
    "        focal_length= focal_length )\n",
    "    \n",
    "    step_list.append(init_step)\n",
    "\n",
    "step_list[0:3]\n"
   ]
  },
  {
   "cell_type": "code",
   "execution_count": null,
   "metadata": {},
   "outputs": [],
   "source": [
    "''' \n",
    "We create a list of boxes by following the initialization sequence as steps to add lenses into a given box\n",
    "\n",
    "there are boxes labeled from 0 to 255\n",
    "\n",
    "The result of running the HASH algorithm on the label indicates the correct box for that step.\n",
    "'''\n",
    "\n",
    "\"\"\" \n",
    "General algorithm:\n",
    "    for every initstep:\n",
    "        compute the hash algorithm for the label to get the correct box\n",
    "\n",
    "        if the operation is \"-\":\n",
    "            remove a lense with the label if there is one\n",
    "            move all lenses forward in the box (fill the space left)\n",
    "        \n",
    "        if the operation is \"=\":\n",
    "        \n",
    "            if there is already a lens with the label:\n",
    "                replace the old lens with the new focal length\n",
    "\n",
    "            elif there is not a lens with that label:\n",
    "                append the lense (at the end)\n",
    "\"\"\""
   ]
  },
  {
   "cell_type": "code",
   "execution_count": 52,
   "metadata": {},
   "outputs": [],
   "source": [
    "# Initialze the boxes:\n",
    "\n",
    "def UpdateBoxList(box_list: list[dict], init_step: InitStep) -> list[dict]:\n",
    "    \"\"\" \n",
    "    Given a step in the step_list, update the box list\n",
    "    \"\"\"\n",
    "\n",
    "    box_index = ComputeHash(init_step.label)\n",
    "\n",
    "    if init_step.symbol == \"-\":\n",
    "        # Remove the lense if there is one\n",
    "        if  init_step.label in box_list[box_index].keys():\n",
    "            del  box_list[box_index][init_step.label]\n",
    "\n",
    "    elif init_step.symbol == \"=\":\n",
    "        box_list[box_index][init_step.label] = init_step.focal_length\n",
    "\n"
   ]
  },
  {
   "cell_type": "code",
   "execution_count": 55,
   "metadata": {},
   "outputs": [
    {
     "data": {
      "text/plain": [
       "[{'rn': 1, 'cm': 2}, {}, {}, {'ot': 7, 'ab': 5, 'pc': 6}, {}]"
      ]
     },
     "execution_count": 55,
     "metadata": {},
     "output_type": "execute_result"
    }
   ],
   "source": [
    "box_list = [{} for __ in range(255)]\n",
    "\n",
    "for stp in step_list:\n",
    "    UpdateBoxList(box_list, stp)\n",
    "\n",
    "box_list[0:5]"
   ]
  },
  {
   "cell_type": "code",
   "execution_count": 57,
   "metadata": {},
   "outputs": [
    {
     "name": "stdout",
     "output_type": "stream",
     "text": [
      "Total Focusing power =  145\n"
     ]
    }
   ],
   "source": [
    "# Calculate the focusing power of each box:\n",
    "\n",
    "\"\"\" \n",
    "The focusing power of a single lens is the result of multiplying together:\n",
    "\n",
    "One plus the box number of the lens in question.\n",
    "The slot number of the lens within the box: 1 for the first lens, 2 for the second lens, and so on.\n",
    "The focal length of the lens.\n",
    "\n",
    "\"\"\"\n",
    "\n",
    "focusing_power = 0\n",
    "for i,b in enumerate(box_list):\n",
    "    keys = b.keys()\n",
    "    for j,label in enumerate(keys):\n",
    "        focusing_power += (i+1) * (j+1) * b[label]\n",
    "\n",
    "print(\"Total Focusing power = \", focusing_power)\n"
   ]
  },
  {
   "cell_type": "code",
   "execution_count": 62,
   "metadata": {},
   "outputs": [
    {
     "name": "stdout",
     "output_type": "stream",
     "text": [
      "Total Focusing power =  259356\n"
     ]
    }
   ],
   "source": [
    "# Re-do for the whole thing:\n",
    "\n",
    "# Parse the input into a list of this objects:\n",
    "puzzle_input = open(\"./puzzle_inputs/day15.txt\").read()\n",
    "input_list = puzzle_input.split(\",\")\n",
    "\n",
    "step_list = []\n",
    "for s in input_list:\n",
    "\n",
    "    if \"=\" in s:\n",
    "        symbol = \"=\"\n",
    "        focal_length = int(s.split(\"=\")[1])\n",
    "        label = s.split(\"=\")[0]\n",
    "\n",
    "    elif \"-\" in s:\n",
    "        symbol = \"-\"\n",
    "        focal_length = None\n",
    "        label = s.split(\"-\")[0]\n",
    "\n",
    "    init_step = InitStep(\n",
    "        label= label,\n",
    "        symbol = symbol,\n",
    "        focal_length= focal_length )\n",
    "    \n",
    "    step_list.append(init_step)\n",
    "\n",
    "# Update the boxes folowwing the init steps:\n",
    "box_list = [{} for __ in range(256)]\n",
    "\n",
    "for stp in step_list:\n",
    "    UpdateBoxList(box_list, stp)\n",
    "\n",
    "# Compute the total power:\n",
    "focusing_power = 0\n",
    "for i,b in enumerate(box_list):\n",
    "    keys = b.keys()\n",
    "    for j,label in enumerate(keys):\n",
    "        focusing_power += (i+1) * (j+1) * b[label]\n",
    "\n",
    "print(\"Total Focusing power = \", focusing_power)"
   ]
  },
  {
   "cell_type": "markdown",
   "metadata": {},
   "source": [
    "---"
   ]
  },
  {
   "cell_type": "code",
   "execution_count": null,
   "metadata": {},
   "outputs": [],
   "source": []
  }
 ],
 "metadata": {
  "kernelspec": {
   "display_name": ".venv",
   "language": "python",
   "name": "python3"
  },
  "language_info": {
   "codemirror_mode": {
    "name": "ipython",
    "version": 3
   },
   "file_extension": ".py",
   "mimetype": "text/x-python",
   "name": "python",
   "nbconvert_exporter": "python",
   "pygments_lexer": "ipython3",
   "version": "3.9.18"
  },
  "orig_nbformat": 4
 },
 "nbformat": 4,
 "nbformat_minor": 2
}
